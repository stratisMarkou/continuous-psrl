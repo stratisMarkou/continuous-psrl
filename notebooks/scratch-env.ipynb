{
 "cells": [
  {
   "cell_type": "code",
   "execution_count": 1,
   "metadata": {},
   "outputs": [],
   "source": [
    "from cpsrl.environments.environment import Environment\n",
    "import numpy as np\n",
    "import tensorflow_probability as tfp\n",
    "\n",
    "from cpsrl.models.gp import VFEGPStack, VFEGP\n",
    "from cpsrl.models.mean import ConstantMean\n",
    "from cpsrl.models.covariance import EQ\n",
    "\n",
    "import matplotlib.pyplot as plt\n",
    "\n",
    "import sys\n",
    "\n",
    "from cpsrl.helpers import check_shape"
   ]
  },
  {
   "cell_type": "code",
   "execution_count": 2,
   "metadata": {},
   "outputs": [
    {
     "data": {
      "text/plain": [
       "array([-0.5,  0. ])"
      ]
     },
     "execution_count": 2,
     "metadata": {},
     "output_type": "execute_result"
    }
   ],
   "source": [
    "environment = Environment(name='MountainCar')\n",
    "\n",
    "environment.reset()"
   ]
  },
  {
   "cell_type": "code",
   "execution_count": 3,
   "metadata": {},
   "outputs": [
    {
     "data": {
      "text/plain": [
       "<tf.Tensor: shape=(0, 3), dtype=float32, numpy=array([], shape=(0, 3), dtype=float32)>"
      ]
     },
     "execution_count": 3,
     "metadata": {},
     "output_type": "execute_result"
    }
   ],
   "source": [
    "import tensorflow as tf\n",
    "\n",
    "tf.zeros(shape=(0, 3))"
   ]
  },
  {
   "cell_type": "code",
   "execution_count": 4,
   "metadata": {},
   "outputs": [
    {
     "data": {
      "text/plain": [
       "array([[0., 0., 0.],\n",
       "       [0., 0., 0.]])"
      ]
     },
     "execution_count": 4,
     "metadata": {},
     "output_type": "execute_result"
    }
   ],
   "source": [
    "from cpsrl.helpers import check_shape\n",
    "\n",
    "zeros = np.zeros(shape=(1, 2, 3))\n",
    "shape = (-1, 2, 3)\n",
    "check_shape(zeros, shape)"
   ]
  },
  {
   "cell_type": "code",
   "execution_count": 5,
   "metadata": {},
   "outputs": [
    {
     "data": {
      "text/plain": [
       "[array([[[0., 0., 0.],\n",
       "         [0., 0., 0.]]]),\n",
       " array([[[0., 0.],\n",
       "         [0., 0.]]])]"
      ]
     },
     "execution_count": 5,
     "metadata": {},
     "output_type": "execute_result"
    }
   ],
   "source": [
    "check_shape([zeros, zeros[..., :2]], [(-1, 'N', 3), (-1, 'N', 'N')])"
   ]
  },
  {
   "cell_type": "code",
   "execution_count": 6,
   "metadata": {},
   "outputs": [],
   "source": [
    "# Set random seed and tf.dtype\n",
    "np.random.seed(0)\n",
    "dtype = tf.float64\n",
    "\n",
    "# Num. observations (N)\n",
    "N = 100\n",
    "\n",
    "# EQ covariance hyperparameters\n",
    "log_coeff = 0.\n",
    "log_scale = 0.\n",
    "noise = 1e-1\n",
    "dim = 1\n",
    "\n",
    "# Initialise covariance\n",
    "ground_truth_cov = EQ(log_coeff=log_coeff,\n",
    "                      log_scales=log_scale,\n",
    "                      trainable=True,\n",
    "                      dtype=dtype)\n",
    "\n",
    "# Pick inputs at random\n",
    "x_train = np.random.uniform(low=-4., high=4., size=(N, 1))\n",
    "\n",
    "# Compute covariance matrix terms\n",
    "K_train_train = ground_truth_cov(x_train, x_train, epsilon=1e-12)\n",
    "I_noise = noise * np.eye(N)\n",
    "\n",
    "# Sample f_ind | x_ind\n",
    "y_train = np.dot(np.linalg.cholesky(K_train_train + I_noise),\n",
    "                 np.random.normal(loc=0., scale=1., size=(N, 1)))\n",
    "\n",
    "# Locations to plot mean and variance of generative model, y_plot | f_ind, x_plot\n",
    "x_plot = np.linspace(-8., 8., 100)[:, None]\n",
    "\n",
    "# Covariances between inducing points and input locations\n",
    "K_train_plot = ground_truth_cov(x_train, x_plot)\n",
    "K_plot_train = ground_truth_cov(x_plot, x_train)\n",
    "K_plot_diag = ground_truth_cov(x_plot, x_plot, diag=True)\n",
    "\n",
    "# Mean and standard deviation of y_plot | f_ind, x_plot\n",
    "y_plot_mean = np.dot(K_plot_train, np.linalg.solve(K_train_train + I_noise, y_train))[:, 0]\n",
    "f_plot_var = K_plot_diag - np.diag(np.dot(K_plot_train,\n",
    "                                   np.linalg.solve(K_train_train + I_noise, K_train_plot)))\n",
    "y_plot_var = f_plot_var + noise ** 2\n",
    "y_plot_std = y_plot_var ** 0.5"
   ]
  },
  {
   "cell_type": "code",
   "execution_count": 7,
   "metadata": {},
   "outputs": [
    {
     "data": {
      "image/png": "[encoded data removed]",
      "text/plain": [
       "<Figure size 720x216 with 1 Axes>"
      ]
     },
     "metadata": {
      "needs_background": "light"
     },
     "output_type": "display_data"
    }
   ],
   "source": [
    "# Plot inducing points and observed data\n",
    "plt.figure(figsize=(10, 3))\n",
    "    \n",
    "# Plot exact posterior predictive\n",
    "plt.plot(x_plot, y_plot_mean - 2*y_plot_std, '--', color='purple',  zorder=2)\n",
    "plt.plot(x_plot, y_plot_mean, color='purple',  zorder=2, label='Exact post.')\n",
    "plt.plot(x_plot, y_plot_mean + 2*y_plot_std, '--', color='purple',  zorder=2)\n",
    "\n",
    "# Plot sampled data\n",
    "plt.scatter(x_train,\n",
    "            y_train,\n",
    "            color='red',\n",
    "            marker='+',\n",
    "            zorder=3,\n",
    "            label=r'Observed $\\mathbf{y}$')\n",
    "\n",
    "# Plot formatting\n",
    "plt.title('Synthetic data and ground truth', fontsize=22)\n",
    "plt.xticks(np.arange(-8, 9, 4), fontsize=14)\n",
    "plt.yticks(np.arange(-8, 9, 4), fontsize=14)\n",
    "plt.legend(loc='lower right', fontsize=14)\n",
    "plt.xlim([-8., 8.])\n",
    "plt.show()"
   ]
  },
  {
   "cell_type": "code",
   "execution_count": 8,
   "metadata": {},
   "outputs": [],
   "source": [
    "def plot(model,\n",
    "         ground_truth_cov,\n",
    "         ground_truth_noise,\n",
    "         x_pred,\n",
    "         x_train,\n",
    "         y_train,\n",
    "         x_ind_init,\n",
    "         step):\n",
    "\n",
    "    # Get exact and approximate posterior predictive\n",
    "    vfe_mean, vfe_cov = model.post_pred(x_pred)\n",
    "\n",
    "    # Covariances between inducing points and input locations\n",
    "    K_train_plot = ground_truth_cov(x_train, x_plot)\n",
    "    K_plot_train = ground_truth_cov(x_plot, x_train)\n",
    "    K_plot_diag = ground_truth_cov(x_plot, x_plot, diag=True)\n",
    "\n",
    "    # Mean and standard deviation of y_plot | f_ind, x_plot\n",
    "    exact_mean = np.dot(K_plot_train, np.linalg.solve(K_train_train + I_noise, y_train))[:, 0]\n",
    "    exact_cov = K_plot_diag - np.dot(K_plot_train, np.linalg.solve(K_train_train + I_noise, K_train_plot))\n",
    "    exact_var = np.diagonal(exact_cov)\n",
    "    exact_std = (exact_var + ground_truth_noise ** 2) ** 0.5\n",
    "    \n",
    "    x_pred = x_pred[:, 0].numpy()\n",
    "    x_ind = model.x_ind[:, 0].numpy()\n",
    "    \n",
    "    vfe_mean = vfe_mean.numpy()\n",
    "    vfe_var = tf.linalg.diag_part(vfe_cov).numpy()\n",
    "    \n",
    "    plt.figure(figsize=(10, 3))\n",
    "    \n",
    "    # Plot posterior predictive\n",
    "    plt.plot(x_pred,\n",
    "             vfe_mean,\n",
    "             color='black',\n",
    "             zorder=1,\n",
    "             label='Approx. Post.')\n",
    "    \n",
    "    print(vfe_mean.shape, vfe_var.shape, x_pred.shape)\n",
    "    plt.fill_between(x_pred,\n",
    "                     vfe_mean - 2 * vfe_var ** 0.5,\n",
    "                     vfe_mean + 2 * vfe_var ** 0.5,\n",
    "                     color='gray',\n",
    "                     alpha=0.3)\n",
    "    \n",
    "    # Plot exact posterior\n",
    "    plt.plot(x_plot,\n",
    "             exact_mean - 2*exact_std,\n",
    "             '--',\n",
    "             color='purple',\n",
    "             zorder=1)\n",
    "    \n",
    "    plt.plot(x_plot,\n",
    "             exact_mean,\n",
    "             color='purple',\n",
    "             zorder=1)\n",
    "    \n",
    "    plt.plot(x_plot,\n",
    "             exact_mean + 2*exact_std,\n",
    "             '--',\n",
    "             color='purple',\n",
    "             zorder=1,\n",
    "             label='Exact Post.')\n",
    "\n",
    "    # Plot training data\n",
    "    plt.scatter(x_train, y_train, color='red', marker='+', zorder=2)\n",
    "    \n",
    "    # Plot initial inducing points\n",
    "    plt.scatter(x_ind_init,\n",
    "                -5.5 * tf.ones_like(x_ind_init),\n",
    "                color='green',\n",
    "                marker='+',\n",
    "                label=r'Init. $\\bar{\\mathbf{X}}$',\n",
    "                zorder=2)\n",
    "    \n",
    "    # Plot current inducing points\n",
    "    plt.scatter(x_ind,\n",
    "                -5. * tf.ones_like(x_ind),\n",
    "                color='blue',\n",
    "                marker='+',\n",
    "                label=r'Curr. $\\bar{\\mathbf{X}}$',\n",
    "                zorder=2)\n",
    "    \n",
    "    # Format plot\n",
    "    plt.title(f'VFE after {step} optimisation steps', fontsize=18)\n",
    "    \n",
    "    plt.xticks(np.arange(-10, 11, 4), fontsize=14)\n",
    "    plt.yticks(np.arange(-6, 7, 3), fontsize=14)\n",
    "    \n",
    "    plt.xlim([-8., 8.])\n",
    "    plt.ylim([-8., 4.])\n",
    "    \n",
    "    plt.legend(loc='lower right', fontsize=10)\n",
    "    \n",
    "    plt.show()\n",
    "    \n",
    "    \n",
    "def print_info(model, step):\n",
    "    \n",
    "    free_energy = model.free_energy()\n",
    "    \n",
    "    print(f'Step: {step:5>} '\n",
    "          f'Free energy: {free_energy.numpy():8.3f} '\n",
    "          f'Coeff: {model.cov.coeff.numpy():5.2f} '\n",
    "          f'Scales: {[round(num, 3) for num in model.cov.scales.numpy()]} '\n",
    "          f'Noise: {model.noise.numpy():5.2f}')"
   ]
  },
  {
   "cell_type": "code",
   "execution_count": 9,
   "metadata": {},
   "outputs": [
    {
     "name": "stdout",
     "output_type": "stream",
     "text": [
      "Step: 0 Free energy:  -39.651 Coeff:  1.00 Scales: [1.0] Noise:  0.10\n",
      "(100,) (100,) (100,)\n"
     ]
    },
    {
     "data": {
      "image/png": "[encoded data removed]",
      "text/plain": [
       "<Figure size 720x216 with 1 Axes>"
      ]
     },
     "metadata": {
      "needs_background": "light"
     },
     "output_type": "display_data"
    },
    {
     "name": "stdout",
     "output_type": "stream",
     "text": [
      "Step: 10 Free energy:   -3.673 Coeff:  0.48 Scales: [1.635] Noise:  0.23\n",
      "(100,) (100,) (100,)\n"
     ]
    },
    {
     "data": {
      "image/png": "[encoded data removed]",
      "text/plain": [
       "<Figure size 720x216 with 1 Axes>"
      ]
     },
     "metadata": {
      "needs_background": "light"
     },
     "output_type": "display_data"
    }
   ],
   "source": [
    "# Set random seed and tensor dtype\n",
    "tf.random.set_seed(1)\n",
    "\n",
    "# Number GP constants\n",
    "M = 10\n",
    "inducing_range = (-4., -2.)\n",
    "log_noise = np.log(1e-1)\n",
    "log_coeff = np.log(1e0)\n",
    "log_scales = [np.log(1e0)]\n",
    "ind_fraction = None\n",
    "trainable_inducing = True\n",
    "trainable_noise = True\n",
    "\n",
    "# Define mean and covariance\n",
    "mean = ConstantMean(dtype=dtype)\n",
    "\n",
    "# Initialise covariance\n",
    "cov = EQ(log_coeff=log_coeff,\n",
    "         log_scales=log_scale,\n",
    "         trainable=True,\n",
    "         dtype=dtype)\n",
    "\n",
    "# Initial locations of inducing points\n",
    "x_ind_dist = tfp.distributions.Uniform(*inducing_range)\n",
    "x_ind = x_ind_dist.sample(sample_shape=(M, 1))\n",
    "x_ind = tf.cast(x_ind, dtype=dtype)\n",
    "\n",
    "# Define sparse VFEGP\n",
    "vfe_gp = VFEGP(mean=mean,\n",
    "               cov=cov,\n",
    "               x_train=x_train,\n",
    "               y_train=y_train,\n",
    "               x_ind=x_ind,\n",
    "               ind_fraction=ind_fraction,\n",
    "               trainable_inducing=trainable_inducing,\n",
    "               log_noise=log_noise,\n",
    "               trainable_noise=trainable_noise,\n",
    "               dtype=dtype)\n",
    "\n",
    "num_steps = 10\n",
    "optimizer = tf.keras.optimizers.Adam(1e-1)\n",
    "\n",
    "x_pred = tf.linspace(-8., 8., 100)[:, None]\n",
    "x_pred = tf.cast(x_pred, dtype=dtype)\n",
    "\n",
    "for step in range(num_steps + 1):\n",
    "    \n",
    "    with tf.GradientTape() as tape:\n",
    "\n",
    "        free_energy = vfe_gp.free_energy()\n",
    "        loss = - free_energy\n",
    "        \n",
    "        # Print information and plot at start and end\n",
    "        if step % num_steps == 0:\n",
    "            \n",
    "            print_info(vfe_gp, step)\n",
    "\n",
    "            plot(vfe_gp,\n",
    "                 ground_truth_cov,\n",
    "                 noise,\n",
    "                 x_pred,\n",
    "                 x_train,\n",
    "                 y_train,\n",
    "                 x_ind,\n",
    "                 step)\n",
    "\n",
    "    gradients = tape.gradient(loss, vfe_gp.trainable_variables)\n",
    "    optimizer.apply_gradients(zip(gradients, vfe_gp.trainable_variables))"
   ]
  },
  {
   "cell_type": "code",
   "execution_count": 10,
   "metadata": {},
   "outputs": [],
   "source": [
    "environment = Environment(name='MountainCar', sub_sampling_factor=4)\n",
    "\n",
    "environment.reset()\n",
    "\n",
    "num_steps = 100\n",
    "\n",
    "states = []\n",
    "actions = []\n",
    "next_states = []\n",
    "\n",
    "for i in range(num_steps):\n",
    "    \n",
    "    s, a, s_ = environment.step(np.array([1.]))\n",
    "    \n",
    "    states.append(s)\n",
    "    actions.append(a)\n",
    "    next_states.append(s_)\n",
    "    \n",
    "states = np.array(states)\n",
    "actions = np.array(actions)\n",
    "next_states = np.array(next_states)\n",
    "\n",
    "x_train = tf.convert_to_tensor(np.concatenate([states, actions], axis=1), dtype=tf.float64)\n",
    "y_train = tf.convert_to_tensor(next_states[:, :1], dtype=tf.float64)\n",
    "\n",
    "_ = check_shape([x_train, y_train], [('N', 3), ('N', 1)])"
   ]
  },
  {
   "cell_type": "code",
   "execution_count": 11,
   "metadata": {},
   "outputs": [
    {
     "name": "stdout",
     "output_type": "stream",
     "text": [
      "Step: 0 Free energy:    1.044 Coeff:  1.00 Scales: [1.0] Noise:  0.10\n",
      "Step: 10 Free energy:    2.079 Coeff:  2.60 Scales: [2.072] Noise:  0.04\n"
     ]
    }
   ],
   "source": [
    "# Set random seed and tensor dtype\n",
    "tf.random.set_seed(1)\n",
    "\n",
    "# Number GP constants\n",
    "log_noise = np.log(1e-1)\n",
    "log_coeff = np.log(1e0)\n",
    "log_scales = [np.log(1e0)]\n",
    "ind_fraction = 0.5\n",
    "x_ind = None\n",
    "trainable_inducing = True\n",
    "trainable_noise = True\n",
    "\n",
    "# Define mean and covariance\n",
    "mean = ConstantMean(dtype=dtype)\n",
    "\n",
    "# Initialise covariance\n",
    "cov = EQ(log_coeff=log_coeff,\n",
    "         log_scales=log_scale,\n",
    "         trainable=True,\n",
    "         dtype=dtype)\n",
    "\n",
    "# Define sparse VFEGP\n",
    "vfe_gp = VFEGP(mean=mean,\n",
    "               cov=cov,\n",
    "               x_train=x_train,\n",
    "               y_train=y_train,\n",
    "               x_ind=x_ind,\n",
    "               ind_fraction=ind_fraction,\n",
    "               trainable_inducing=trainable_inducing,\n",
    "               log_noise=log_noise,\n",
    "               trainable_noise=trainable_noise,\n",
    "               dtype=dtype)\n",
    "\n",
    "num_steps = 10\n",
    "optimizer = tf.keras.optimizers.Adam(1e-1)\n",
    "\n",
    "for step in range(num_steps + 1):\n",
    "    \n",
    "    with tf.GradientTape() as tape:\n",
    "\n",
    "        free_energy = vfe_gp.free_energy()\n",
    "        loss = - free_energy\n",
    "        \n",
    "        # Print information and plot at start and end\n",
    "        if step % num_steps == 0:\n",
    "            \n",
    "            print_info(vfe_gp, step)\n",
    "\n",
    "    gradients = tape.gradient(loss, vfe_gp.trainable_variables)\n",
    "    optimizer.apply_gradients(zip(gradients, vfe_gp.trainable_variables))"
   ]
  },
  {
   "cell_type": "code",
   "execution_count": 12,
   "metadata": {},
   "outputs": [],
   "source": [
    "environment = Environment(name='MountainCar', sub_sampling_factor=4)\n",
    "\n",
    "environment.reset()\n",
    "\n",
    "num_steps = 100\n",
    "\n",
    "states = []\n",
    "actions = []\n",
    "next_states = []\n",
    "\n",
    "for i in range(num_steps):\n",
    "    \n",
    "    s, a, s_ = environment.step(2. * np.random.rand(1) - 1.)\n",
    "    \n",
    "    states.append(s)\n",
    "    actions.append(a)\n",
    "    next_states.append(s_)\n",
    "    \n",
    "states = np.array(states)\n",
    "actions = np.array(actions)\n",
    "next_states = np.array(next_states)\n",
    "\n",
    "x_train = tf.convert_to_tensor(np.concatenate([states, actions], axis=1), dtype=tf.float64)\n",
    "y_train = tf.convert_to_tensor(next_states, dtype=tf.float64)\n",
    "\n",
    "_ = check_shape([x_train, y_train], [('N', 3), ('N', 2)])"
   ]
  },
  {
   "cell_type": "code",
   "execution_count": 13,
   "metadata": {},
   "outputs": [
    {
     "name": "stdout",
     "output_type": "stream",
     "text": [
      "Step: 0 Free energy:    0.795 Coeff:  1.00 Scales: [1.0, 1.0, 1.0] Noise:  0.10\n",
      "Step: 0 Free energy:    0.981 Coeff:  1.00 Scales: [1.0, 1.0, 1.0] Noise:  0.10\n",
      "Step: 100 Free energy:    1.284 Coeff:  1.00 Scales: [1.0, 1.0, 1.0] Noise:  0.04\n",
      "Step: 100 Free energy:    1.675 Coeff:  1.00 Scales: [1.0, 1.0, 1.0] Noise:  0.04\n"
     ]
    }
   ],
   "source": [
    "# State and action dimensions\n",
    "sdim = 2\n",
    "adim = 1\n",
    "dtype = tf.float64\n",
    "\n",
    "# Number GP constants\n",
    "log_noise = np.log(1e-1)\n",
    "log_coeff = np.log(1e0)\n",
    "log_scales = [np.log(1e0)] * (sdim + adim)\n",
    "ind_fraction = 0.5\n",
    "x_ind = None\n",
    "trainable_inducing = False\n",
    "trainable_covariance = False\n",
    "trainable_noise = True\n",
    "\n",
    "# Define mean and covariance\n",
    "means = [ConstantMean(dtype=dtype) for i in range(sdim+adim)]\n",
    "\n",
    "# Initialise covariance\n",
    "covs = [EQ(log_coeff=log_coeff,\n",
    "           log_scales=log_scales,\n",
    "           trainable=trainable_covariance,\n",
    "           dtype=dtype) for i in range(sdim)]\n",
    "\n",
    "# Define sparse VFEGP\n",
    "vfe_gps = [VFEGP(mean=means[i],\n",
    "                 cov=covs[i],\n",
    "                 x_train=x_train,\n",
    "                 y_train=y_train[:, i:i+1],\n",
    "                 x_ind=x_ind,\n",
    "                 ind_fraction=ind_fraction,\n",
    "                 trainable_inducing=trainable_inducing,\n",
    "                 log_noise=log_noise,\n",
    "                 trainable_noise=trainable_noise,\n",
    "                 dtype=dtype) for i in range(sdim)]\n",
    "\n",
    "vfe_gp_stack = VFEGPStack(vfe_gps, dtype=dtype)\n",
    "\n",
    "num_steps = 100\n",
    "optimizer = tf.keras.optimizers.Adam(1e-2)\n",
    "\n",
    "for step in range(num_steps + 1):\n",
    "    \n",
    "    with tf.GradientTape() as tape:\n",
    "\n",
    "        free_energy = vfe_gp_stack.free_energy()\n",
    "        loss = - free_energy\n",
    "        \n",
    "        # Print information and plot at start and end\n",
    "        if step % num_steps == 0:\n",
    "            \n",
    "            print_info(vfe_gp_stack.vfe_gps[0], step)\n",
    "            print_info(vfe_gp_stack.vfe_gps[1], step)\n",
    "\n",
    "    gradients = tape.gradient(loss, vfe_gp_stack.trainable_variables)\n",
    "    optimizer.apply_gradients(zip(gradients, vfe_gp_stack.trainable_variables))"
   ]
  },
  {
   "cell_type": "code",
   "execution_count": 14,
   "metadata": {},
   "outputs": [
    {
     "data": {
      "text/plain": [
       "(<tf.Tensor: shape=(), dtype=float64, numpy=0.04074170641670296>,\n",
       " <tf.Tensor: shape=(3,), dtype=float64, numpy=array([1., 1., 1.])>)"
      ]
     },
     "execution_count": 14,
     "metadata": {},
     "output_type": "execute_result"
    }
   ],
   "source": [
    "vfe_gp_stack.vfe_gps[0].noise, vfe_gp_stack.vfe_gps[0].cov.scales"
   ]
  },
  {
   "cell_type": "code",
   "execution_count": 15,
   "metadata": {},
   "outputs": [
    {
     "data": {
      "text/plain": [
       "(<tf.Tensor: shape=(), dtype=float64, numpy=0.037690717517156885>,\n",
       " <tf.Tensor: shape=(3,), dtype=float64, numpy=array([1., 1., 1.])>)"
      ]
     },
     "execution_count": 15,
     "metadata": {},
     "output_type": "execute_result"
    }
   ],
   "source": [
    "vfe_gp_stack.vfe_gps[1].noise, vfe_gp_stack.vfe_gps[1].cov.scales"
   ]
  },
  {
   "cell_type": "code",
   "execution_count": 17,
   "metadata": {},
   "outputs": [],
   "source": [
    "num_features = 20\n",
    "\n",
    "post_sample = vfe_gp_stack.sample_posterior(num_features=num_features)"
   ]
  },
  {
   "cell_type": "code",
   "execution_count": 19,
   "metadata": {},
   "outputs": [
    {
     "data": {
      "text/plain": [
       "<tf.Tensor: shape=(1, 2), dtype=float64, numpy=array([[1.32197557, 0.38253406]])>"
      ]
     },
     "execution_count": 19,
     "metadata": {},
     "output_type": "execute_result"
    }
   ],
   "source": [
    "post_sample(tf.convert_to_tensor([[1., 1., 0.]], dtype=tf.float64), add_noise=False)"
   ]
  },
  {
   "cell_type": "code",
   "execution_count": null,
   "metadata": {},
   "outputs": [],
   "source": []
  }
 ],
 "metadata": {
  "kernelspec": {
   "display_name": "venv-cpsrl",
   "language": "python",
   "name": "venv-cpsrl"
  },
  "language_info": {
   "codemirror_mode": {
    "name": "ipython",
    "version": 3
   },
   "file_extension": ".py",
   "mimetype": "text/x-python",
   "name": "python",
   "nbconvert_exporter": "python",
   "pygments_lexer": "ipython3",
   "version": "3.7.3"
  }
 },
 "nbformat": 4,
 "nbformat_minor": 4
}
