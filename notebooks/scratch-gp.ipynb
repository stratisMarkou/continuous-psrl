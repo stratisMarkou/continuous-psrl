{
 "cells": [
  {
   "cell_type": "code",
   "execution_count": 1,
   "metadata": {
    "collapsed": true,
    "pycharm": {
     "is_executing": false
    }
   },
   "outputs": [],
   "source": [
    "import tensorflow as tf\n",
    "from cpsrl.models.mean import ConstantMean, LinearMean\n",
    "from cpsrl.models.covariance import EQ\n",
    "from cpsrl.models.gp import VFEGP\n",
    "from cpsrl.models.gp import VFEGPStack"
   ]
  },
  {
   "cell_type": "code",
   "execution_count": 2,
   "outputs": [
    {
     "data": {
      "text/plain": "<tf.Tensor: shape=(2,), dtype=float64, numpy=array([0., 0.])>"
     },
     "metadata": {},
     "output_type": "execute_result",
     "execution_count": 2
    }
   ],
   "source": [
    "# Check constant mean works\n",
    "constant_mean = ConstantMean(trainable=True,\n",
    "                             dtype=tf.float64)\n",
    "\n",
    "ones = tf.ones(shape=(2, 3), dtype=tf.float64)\n",
    "constant_mean(ones)\n",
    "\n",
    "# Check linear mean works\n",
    "linear_mean = LinearMean(input_dim=3,\n",
    "                         trainable=True,\n",
    "                         dtype=tf.float64)\n",
    "linear_mean(ones)"
   ],
   "metadata": {
    "collapsed": false,
    "pycharm": {
     "name": "#%%\n",
     "is_executing": false
    }
   }
  },
  {
   "cell_type": "code",
   "execution_count": 3,
   "outputs": [
    {
     "data": {
      "text/plain": "<tf.Tensor: shape=(4, 3), dtype=float64, numpy=\narray([[0.81652651, 0.97262145, 0.48594971],\n       [0.51257423, 0.76978557, 0.29885077],\n       [0.47086533, 0.5900562 , 0.42057098],\n       [0.99128309, 0.91615067, 0.84609404]])>"
     },
     "metadata": {},
     "output_type": "execute_result",
     "execution_count": 3
    }
   ],
   "source": [
    "# Check EQ covariance works\n",
    "log_coeff = 0.\n",
    "log_scales = [-1., -1.]\n",
    "\n",
    "# Check EQ kernel works\n",
    "eq = EQ(log_coeff=log_coeff,\n",
    "        log_scales=log_scales,\n",
    "        trainable=True,\n",
    "        dtype=tf.float64)\n",
    "\n",
    "x1 = tf.random.uniform(shape=(4, 2), dtype=tf.float64)\n",
    "x2 = tf.random.uniform(shape=(3, 2), dtype=tf.float64)\n",
    "\n",
    "eq(x1, x2)"
   ],
   "metadata": {
    "collapsed": false,
    "pycharm": {
     "name": "#%%\n",
     "is_executing": false
    }
   }
  },
  {
   "cell_type": "code",
   "execution_count": 4,
   "outputs": [
    {
     "data": {
      "text/plain": "<tf.Tensor: shape=(), dtype=float64, numpy=-475.08974998372787>"
     },
     "metadata": {},
     "output_type": "execute_result",
     "execution_count": 4
    }
   ],
   "source": [
    "# Check VFEGP works\n",
    "dtype = tf.float64\n",
    "trainable_mean = True\n",
    "trainable_cov = True\n",
    "trainable_noise = True\n",
    "trainable_inducing = True\n",
    "log_coeff = -1.\n",
    "log_scales = [-1., -1., -1.]\n",
    "log_noise = -4.\n",
    "\n",
    "num_data = 10\n",
    "state_dim = 2\n",
    "action_dim = 1\n",
    "num_ind = 10\n",
    "\n",
    "x_train = tf.random.uniform(shape=(num_data, state_dim + action_dim), \n",
    "                            dtype=dtype)\n",
    "y_train = tf.random.uniform(shape=(num_data, state_dim),\n",
    "                            dtype=dtype)\n",
    "\n",
    "mean = LinearMean(input_dim=(state_dim+action_dim),\n",
    "                  trainable=trainable_mean,\n",
    "                  dtype=dtype)\n",
    "\n",
    "cov = EQ(log_coeff=log_coeff,\n",
    "         log_scales=log_scales,\n",
    "         trainable=trainable_cov,\n",
    "         dtype=dtype)\n",
    "\n",
    "vfe_gp = VFEGP(mean=mean,\n",
    "               cov=cov,\n",
    "               x_train=x_train,\n",
    "               y_train=y_train[:, :1],\n",
    "               x_ind=None,\n",
    "               num_ind=num_ind,\n",
    "               trainable_inducing=trainable_inducing,\n",
    "               log_noise=log_noise,\n",
    "               trainable_noise=trainable_noise,\n",
    "               dtype=dtype) \n",
    "\n",
    "vfe_gp.free_energy()"
   ],
   "metadata": {
    "collapsed": false,
    "pycharm": {
     "name": "#%%\n",
     "is_executing": false
    }
   }
  },
  {
   "cell_type": "code",
   "execution_count": 5,
   "outputs": [
    {
     "data": {
      "text/plain": "<tf.Tensor: shape=(), dtype=float64, numpy=-1077.4101985623483>"
     },
     "metadata": {},
     "output_type": "execute_result",
     "execution_count": 5
    }
   ],
   "source": [
    "# Check VFEGP works\n",
    "dtype = tf.float64\n",
    "trainable_mean = True\n",
    "trainable_cov = True\n",
    "trainable_noise = True\n",
    "trainable_inducing = True\n",
    "log_coeff = -1.\n",
    "log_scales = [-1., -1., -1.]\n",
    "log_noise = -4.\n",
    "\n",
    "num_data = 10\n",
    "state_dim = 2\n",
    "action_dim = 1\n",
    "num_ind = 10\n",
    "\n",
    "x_train = tf.random.uniform(shape=(num_data, state_dim + action_dim), \n",
    "                            dtype=dtype)\n",
    "y_train = tf.random.uniform(shape=(num_data, state_dim),\n",
    "                            dtype=dtype)\n",
    "\n",
    "means = [LinearMean(input_dim=(state_dim+action_dim),\n",
    "                    trainable=trainable_mean,\n",
    "                    dtype=dtype) for i in range(state_dim)]\n",
    "\n",
    "covs = [EQ(log_coeff=log_coeff,\n",
    "           log_scales=log_scales,\n",
    "           trainable=trainable_cov,\n",
    "           dtype=dtype) for i in range(state_dim)]\n",
    "\n",
    "vfe_gps = [VFEGP(mean=means[i],\n",
    "                 cov=covs[i],\n",
    "                 x_train=x_train,\n",
    "                 y_train=y_train[:, i:i+1],\n",
    "                 x_ind=None,\n",
    "                 num_ind=num_ind,\n",
    "                 trainable_inducing=trainable_inducing,\n",
    "                 log_noise=log_noise,\n",
    "                 trainable_noise=trainable_noise,\n",
    "                 dtype=dtype) \n",
    "           for i in range(state_dim)]\n",
    "\n",
    "vfe_gp_stack = VFEGPStack(vfe_gps=vfe_gps,\n",
    "                          dtype=dtype)\n",
    "\n",
    "vfe_gp_stack.free_energy()"
   ],
   "metadata": {
    "collapsed": false,
    "pycharm": {
     "name": "#%%\n",
     "is_executing": false
    }
   }
  },
  {
   "cell_type": "code",
   "execution_count": 6,
   "outputs": [
    {
     "name": "stdout",
     "text": [
      "tf.Tensor(1077.4101985623483, shape=(), dtype=float64)\ntf.Tensor(600.1568117214771, shape=(), dtype=float64)\ntf.Tensor(350.9825796684705, shape=(), dtype=float64)\ntf.Tensor(203.71584712750052, shape=(), dtype=float64)\ntf.Tensor(125.17948869142504, shape=(), dtype=float64)\ntf.Tensor(80.44765495187502, shape=(), dtype=float64)\n",
      "tf.Tensor(52.69064621768966, shape=(), dtype=float64)\ntf.Tensor(36.10546158279715, shape=(), dtype=float64)\ntf.Tensor(26.274699675655615, shape=(), dtype=float64)\ntf.Tensor(20.01083281509097, shape=(), dtype=float64)\ntf.Tensor(15.347078177783004, shape=(), dtype=float64)\ntf.Tensor(11.687677948779616, shape=(), dtype=float64)\ntf.Tensor(9.16157144098695, shape=(), dtype=float64)\n",
      "tf.Tensor(7.590682551332596, shape=(), dtype=float64)\ntf.Tensor(6.5562252471330975, shape=(), dtype=float64)\ntf.Tensor(5.846915304005812, shape=(), dtype=float64)\ntf.Tensor(5.301024627424062, shape=(), dtype=float64)\ntf.Tensor(4.732507002641701, shape=(), dtype=float64)\ntf.Tensor(4.1929926040416845, shape=(), dtype=float64)\ntf.Tensor(3.8456809786367114, shape=(), dtype=float64)\n",
      "tf.Tensor(3.663045578831941, shape=(), dtype=float64)\ntf.Tensor(3.480650941777081, shape=(), dtype=float64)\ntf.Tensor(3.2473296343252978, shape=(), dtype=float64)\ntf.Tensor(3.0458485056292233, shape=(), dtype=float64)\ntf.Tensor(2.917405702587372, shape=(), dtype=float64)\ntf.Tensor(2.8450795547124614, shape=(), dtype=float64)\ntf.Tensor(2.78059172209525, shape=(), dtype=float64)\n",
      "tf.Tensor(2.706616598944879, shape=(), dtype=float64)\ntf.Tensor(2.6722835953609043, shape=(), dtype=float64)\ntf.Tensor(2.6671029722574704, shape=(), dtype=float64)\ntf.Tensor(2.6078800000415745, shape=(), dtype=float64)\ntf.Tensor(2.508823720975671, shape=(), dtype=float64)\n",
      "tf.Tensor(2.4598853527300975, shape=(), dtype=float64)\ntf.Tensor(2.4641797710840683, shape=(), dtype=float64)\ntf.Tensor(2.4435897271513367, shape=(), dtype=float64)\ntf.Tensor(2.375922347598749, shape=(), dtype=float64)\ntf.Tensor(2.3214130487808804, shape=(), dtype=float64)\ntf.Tensor(2.321593048093077, shape=(), dtype=float64)\ntf.Tensor(2.3381067429862394, shape=(), dtype=float64)\n",
      "tf.Tensor(2.319146284817965, shape=(), dtype=float64)\ntf.Tensor(2.2811823132205253, shape=(), dtype=float64)\ntf.Tensor(2.260493751808709, shape=(), dtype=float64)\ntf.Tensor(2.2477179937572425, shape=(), dtype=float64)\ntf.Tensor(2.2234899954989986, shape=(), dtype=float64)\ntf.Tensor(2.199530152614308, shape=(), dtype=float64)\n",
      "tf.Tensor(2.194223204073692, shape=(), dtype=float64)\ntf.Tensor(2.197512943212943, shape=(), dtype=float64)\ntf.Tensor(2.185912788472281, shape=(), dtype=float64)\ntf.Tensor(2.160868999267519, shape=(), dtype=float64)\ntf.Tensor(2.141781509847417, shape=(), dtype=float64)\ntf.Tensor(2.133852004216936, shape=(), dtype=float64)\ntf.Tensor(2.1278610105349953, shape=(), dtype=float64)\n",
      "tf.Tensor(2.1190574340910175, shape=(), dtype=float64)\ntf.Tensor(2.1084359706059823, shape=(), dtype=float64)\ntf.Tensor(2.0949773405672696, shape=(), dtype=float64)\ntf.Tensor(2.080417500764958, shape=(), dtype=float64)\ntf.Tensor(2.06973458870822, shape=(), dtype=float64)\ntf.Tensor(2.0623108038717657, shape=(), dtype=float64)\ntf.Tensor(2.0538832978627797, shape=(), dtype=float64)\n",
      "tf.Tensor(2.0433465199953718, shape=(), dtype=float64)\ntf.Tensor(2.031884431649927, shape=(), dtype=float64)\ntf.Tensor(2.020635742801063, shape=(), dtype=float64)\ntf.Tensor(2.0115092464393256, shape=(), dtype=float64)\ntf.Tensor(2.004538593658973, shape=(), dtype=float64)\ntf.Tensor(1.9961640712624007, shape=(), dtype=float64)\n",
      "tf.Tensor(1.9852629623731641, shape=(), dtype=float64)\ntf.Tensor(1.97460904684912, shape=(), dtype=float64)\ntf.Tensor(1.9654603781987703, shape=(), dtype=float64)\ntf.Tensor(1.9565634860099324, shape=(), dtype=float64)\ntf.Tensor(1.9474618618854354, shape=(), dtype=float64)\ntf.Tensor(1.93863572586916, shape=(), dtype=float64)\n",
      "tf.Tensor(1.929603241556057, shape=(), dtype=float64)\ntf.Tensor(1.9199609541494747, shape=(), dtype=float64)\ntf.Tensor(1.9105515823066472, shape=(), dtype=float64)\ntf.Tensor(1.901884212701317, shape=(), dtype=float64)\ntf.Tensor(1.8930838273208925, shape=(), dtype=float64)\ntf.Tensor(1.8836269209757475, shape=(), dtype=float64)\ntf.Tensor(1.8744131041000438, shape=(), dtype=float64)\n",
      "tf.Tensor(1.8658576818735195, shape=(), dtype=float64)\ntf.Tensor(1.85707355825592, shape=(), dtype=float64)\ntf.Tensor(1.8478464726042265, shape=(), dtype=float64)\ntf.Tensor(1.8389227530625591, shape=(), dtype=float64)\ntf.Tensor(1.830279793287637, shape=(), dtype=float64)\ntf.Tensor(1.8213706996068308, shape=(), dtype=float64)\n",
      "tf.Tensor(1.8123387111529756, shape=(), dtype=float64)\ntf.Tensor(1.8035258893924975, shape=(), dtype=float64)\ntf.Tensor(1.794879354819111, shape=(), dtype=float64)\ntf.Tensor(1.786218829218908, shape=(), dtype=float64)\ntf.Tensor(1.777408821219833, shape=(), dtype=float64)\ntf.Tensor(1.7685109537588102, shape=(), dtype=float64)\ntf.Tensor(1.7596938556674737, shape=(), dtype=float64)\n",
      "tf.Tensor(1.7509963570695724, shape=(), dtype=float64)\ntf.Tensor(1.74241241288181, shape=(), dtype=float64)\ntf.Tensor(1.7338432153474694, shape=(), dtype=float64)\ntf.Tensor(1.7251445864463975, shape=(), dtype=float64)\ntf.Tensor(1.716457616720588, shape=(), dtype=float64)\ntf.Tensor(1.7079216251359324, shape=(), dtype=float64)\ntf.Tensor(1.699358228255307, shape=(), dtype=float64)\n",
      "tf.Tensor(1.6907259391321205, shape=(), dtype=float64)\ntf.Tensor(1.6822152499361336, shape=(), dtype=float64)\ntf.Tensor(1.673784167956752, shape=(), dtype=float64)\n"
     ],
     "output_type": "stream"
    }
   ],
   "source": [
    "num_steps = 100\n",
    "optimizer = tf.keras.optimizers.Adam(1e-1)\n",
    "\n",
    "for step in range(num_steps + 1):\n",
    "    \n",
    "    with tf.GradientTape() as tape:\n",
    "        \n",
    "        tape.watch(vfe_gp_stack.trainable_variables)\n",
    "\n",
    "        free_energy = vfe_gp_stack.free_energy()\n",
    "        loss = - free_energy\n",
    "        print(loss)\n",
    "        \n",
    "    gradients = tape.gradient(loss, vfe_gp_stack.trainable_variables)\n",
    "    optimizer.apply_gradients(zip(gradients, vfe_gp_stack.trainable_variables))"
   ],
   "metadata": {
    "collapsed": false,
    "pycharm": {
     "name": "#%%\n",
     "is_executing": false
    }
   }
  },
  {
   "cell_type": "code",
   "execution_count": 24,
   "outputs": [],
   "source": [
    "num_features = 100\n",
    "x = tf.reshape(tf.range(15, dtype=dtype), (5, 3))\n",
    "\n",
    "post_sample = vfe_gp_stack.sample_posterior(num_features=num_features)"
   ],
   "metadata": {
    "collapsed": false,
    "pycharm": {
     "name": "#%%\n",
     "is_executing": false
    }
   }
  },
  {
   "cell_type": "code",
   "execution_count": 32,
   "outputs": [
    {
     "name": "stdout",
     "text": [
      "<dtype: 'float64'> float64\n<dtype: 'float64'> float64\n"
     ],
     "output_type": "stream"
    },
    {
     "data": {
      "text/plain": "<tf.Tensor: shape=(5, 2), dtype=float64, numpy=\narray([[-0.02734332,  0.06631785],\n       [ 0.0988031 ,  0.06427051],\n       [-0.01539494,  0.07682769],\n       [-0.13729333,  0.02333228],\n       [ 0.02665974, -0.20138414]])>"
     },
     "metadata": {},
     "output_type": "execute_result",
     "execution_count": 32
    }
   ],
   "source": [
    "post_sample(x, add_noise=True)"
   ],
   "metadata": {
    "collapsed": false,
    "pycharm": {
     "name": "#%%\n",
     "is_executing": false
    }
   }
  },
  {
   "cell_type": "code",
   "execution_count": null,
   "outputs": [],
   "source": [
    "\n"
   ],
   "metadata": {
    "collapsed": false,
    "pycharm": {
     "name": "#%%\n"
    }
   }
  }
 ],
 "metadata": {
  "language_info": {
   "codemirror_mode": {
    "name": "ipython",
    "version": 2
   },
   "file_extension": ".py",
   "mimetype": "text/x-python",
   "name": "python",
   "nbconvert_exporter": "python",
   "pygments_lexer": "ipython2",
   "version": "2.7.6"
  },
  "kernelspec": {
   "name": "python3",
   "language": "python",
   "display_name": "Python 3"
  },
  "pycharm": {
   "stem_cell": {
    "cell_type": "raw",
    "source": [],
    "metadata": {
     "collapsed": false
    }
   }
  }
 },
 "nbformat": 4,
 "nbformat_minor": 0
}