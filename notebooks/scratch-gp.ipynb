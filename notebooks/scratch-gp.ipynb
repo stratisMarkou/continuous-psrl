{
 "cells": [
  {
   "cell_type": "code",
   "execution_count": 3,
   "metadata": {
    "collapsed": true,
    "pycharm": {
     "is_executing": false
    }
   },
   "outputs": [],
   "source": [
    "import tensorflow as tf\n",
    "from cpsrl.models.mean import ConstantMean, LinearMean\n",
    "from cpsrl.models.covariance import EQ\n",
    "from cpsrl.models.gp import VFEGP\n",
    "from cpsrl.models.gp import VFEGPStack"
   ]
  },
  {
   "cell_type": "code",
   "execution_count": 5,
   "outputs": [
    {
     "data": {
      "text/plain": "<tf.Tensor: shape=(2, 1), dtype=float64, numpy=\narray([[0.],\n       [0.]])>"
     },
     "metadata": {},
     "output_type": "execute_result",
     "execution_count": 5
    }
   ],
   "source": [
    "# Check constant mean works\n",
    "constant_mean = ConstantMean(input_dim=3,\n",
    "                             trainable=True,\n",
    "                             dtype=tf.float64)\n",
    "\n",
    "ones = tf.ones(shape=(2, 3), dtype=tf.float64)\n",
    "constant_mean(ones)\n",
    "\n",
    "# Check linear mean works\n",
    "linear_mean = LinearMean(input_dim=3,\n",
    "                         trainable=True,\n",
    "                         dtype=tf.float64)\n",
    "linear_mean(ones)"
   ],
   "metadata": {
    "collapsed": false,
    "pycharm": {
     "name": "#%%\n",
     "is_executing": false
    }
   }
  },
  {
   "cell_type": "code",
   "execution_count": 6,
   "outputs": [
    {
     "data": {
      "text/plain": "<tf.Tensor: shape=(4, 3), dtype=float64, numpy=\narray([[0.58096107, 0.29320622, 0.90369351],\n       [0.60384383, 0.16788348, 0.70138376],\n       [0.6864302 , 0.0219259 , 0.25855786],\n       [0.20834818, 0.42527721, 0.6887336 ]])>"
     },
     "metadata": {},
     "output_type": "execute_result",
     "execution_count": 6
    }
   ],
   "source": [
    "# Check EQ covariance works\n",
    "log_coeff = 0.\n",
    "log_scales = [-1., -1.]\n",
    "\n",
    "# Check EQ kernel works\n",
    "eq = EQ(log_coeff=log_coeff,\n",
    "        log_scales=log_scales,\n",
    "        trainable=True,\n",
    "        dtype=tf.float64)\n",
    "\n",
    "x1 = tf.random.uniform(shape=(4, 2), dtype=tf.float64)\n",
    "x2 = tf.random.uniform(shape=(3, 2), dtype=tf.float64)\n",
    "\n",
    "eq(x1, x2)"
   ],
   "metadata": {
    "collapsed": false,
    "pycharm": {
     "name": "#%%\n",
     "is_executing": false
    }
   }
  },
  {
   "cell_type": "code",
   "execution_count": 7,
   "outputs": [
    {
     "data": {
      "text/plain": "<tf.Tensor: shape=(), dtype=float64, numpy=-1073.5908051557456>"
     },
     "metadata": {},
     "output_type": "execute_result",
     "execution_count": 7
    }
   ],
   "source": [
    "# Check VFEGP works\n",
    "dtype = tf.float64\n",
    "trainable_mean = True\n",
    "trainable_cov = True\n",
    "trainable_noise = True\n",
    "trainable_inducing = True\n",
    "log_coeff = -1.\n",
    "log_scales = [-1., -1., -1.]\n",
    "log_noise = -4.\n",
    "\n",
    "num_data = 10\n",
    "state_dim = 2\n",
    "action_dim = 1\n",
    "num_ind = 10\n",
    "\n",
    "x_train = tf.random.uniform(shape=(num_data, state_dim + action_dim), \n",
    "                            dtype=dtype)\n",
    "y_train = tf.random.uniform(shape=(num_data, state_dim),\n",
    "                            dtype=dtype)\n",
    "\n",
    "mean = LinearMean(input_dim=(state_dim+action_dim),\n",
    "                  trainable=trainable_mean,\n",
    "                  dtype=dtype)\n",
    "\n",
    "cov = EQ(log_coeff=log_coeff,\n",
    "         log_scales=log_scales,\n",
    "         trainable=trainable_cov,\n",
    "         dtype=dtype)\n",
    "\n",
    "vfe_gp = VFEGP(mean=mean,\n",
    "               cov=cov,\n",
    "               x_train=x_train,\n",
    "               y_train=y_train[:, :1],\n",
    "               x_ind=None,\n",
    "               num_ind=num_ind,\n",
    "               trainable_inducing=trainable_inducing,\n",
    "               log_noise=log_noise,\n",
    "               trainable_noise=trainable_noise,\n",
    "               dtype=dtype) \n",
    "\n",
    "vfe_gp.free_energy()"
   ],
   "metadata": {
    "collapsed": false,
    "pycharm": {
     "name": "#%%\n",
     "is_executing": false
    }
   }
  },
  {
   "cell_type": "code",
   "execution_count": 8,
   "outputs": [
    {
     "data": {
      "text/plain": "<tf.Tensor: shape=(), dtype=float64, numpy=-1010.5549664707199>"
     },
     "metadata": {},
     "output_type": "execute_result",
     "execution_count": 8
    }
   ],
   "source": [
    "# Check VFEGP works\n",
    "dtype = tf.float64\n",
    "trainable_mean = True\n",
    "trainable_cov = True\n",
    "trainable_noise = True\n",
    "trainable_inducing = True\n",
    "log_coeff = -1.\n",
    "log_scales = [-1., -1., -1.]\n",
    "log_noise = -4.\n",
    "\n",
    "num_data = 10\n",
    "state_dim = 2\n",
    "action_dim = 1\n",
    "num_ind = 10\n",
    "\n",
    "x_train = tf.random.uniform(shape=(num_data, state_dim + action_dim), \n",
    "                            dtype=dtype)\n",
    "y_train = tf.random.uniform(shape=(num_data, state_dim),\n",
    "                            dtype=dtype)\n",
    "\n",
    "means = [LinearMean(input_dim=(state_dim+action_dim),\n",
    "                    trainable=trainable_mean,\n",
    "                    dtype=dtype) for i in range(state_dim)]\n",
    "\n",
    "covs = [EQ(log_coeff=log_coeff,\n",
    "           log_scales=log_scales,\n",
    "           trainable=trainable_cov,\n",
    "           dtype=dtype) for i in range(state_dim)]\n",
    "\n",
    "vfe_gps = [VFEGP(mean=means[i],\n",
    "                 cov=covs[i],\n",
    "                 x_train=x_train,\n",
    "                 y_train=y_train[:, i:i+1],\n",
    "                 x_ind=None,\n",
    "                 num_ind=num_ind,\n",
    "                 trainable_inducing=trainable_inducing,\n",
    "                 log_noise=log_noise,\n",
    "                 trainable_noise=trainable_noise,\n",
    "                 dtype=dtype) \n",
    "           for i in range(state_dim)]\n",
    "\n",
    "vfe_gp_stack = VFEGPStack(vfe_gps=vfe_gps,\n",
    "                          dtype=dtype)\n",
    "\n",
    "vfe_gp_stack.free_energy()"
   ],
   "metadata": {
    "collapsed": false,
    "pycharm": {
     "name": "#%%\n",
     "is_executing": false
    }
   }
  },
  {
   "cell_type": "code",
   "execution_count": 9,
   "outputs": [
    {
     "name": "stdout",
     "text": [
      "tf.Tensor(1010.5549664707199, shape=(), dtype=float64)\n",
      "tf.Tensor(558.6920394545932, shape=(), dtype=float64)\n",
      "tf.Tensor(325.0667075820628, shape=(), dtype=float64)\n",
      "tf.Tensor(191.37543676507306, shape=(), dtype=float64)\n",
      "tf.Tensor(118.66852835194618, shape=(), dtype=float64)\n",
      "tf.Tensor(82.26573799381734, shape=(), dtype=float64)\n",
      "tf.Tensor(58.4297197049787, shape=(), dtype=float64)\ntf.Tensor(44.491595847451904, shape=(), dtype=float64)\n",
      "tf.Tensor(37.416523165001905, shape=(), dtype=float64)\n",
      "tf.Tensor(34.00328723310163, shape=(), dtype=float64)\n",
      "tf.Tensor(31.905027358912026, shape=(), dtype=float64)\n",
      "tf.Tensor(30.12611530498993, shape=(), dtype=float64)\ntf.Tensor(28.81365629475879, shape=(), dtype=float64)\n",
      "tf.Tensor(28.1211221068358, shape=(), dtype=float64)\n",
      "tf.Tensor(28.280235717501853, shape=(), dtype=float64)\n",
      "tf.Tensor(28.53193900675546, shape=(), dtype=float64)\ntf.Tensor(28.609004172712517, shape=(), dtype=float64)\n",
      "tf.Tensor(28.777495460507293, shape=(), dtype=float64)\n",
      "tf.Tensor(29.111688349209764, shape=(), dtype=float64)\n",
      "tf.Tensor(29.198378433000457, shape=(), dtype=float64)\n",
      "tf.Tensor(28.867407948068276, shape=(), dtype=float64)\ntf.Tensor(28.615395461411932, shape=(), dtype=float64)\n",
      "tf.Tensor(28.4483086798691, shape=(), dtype=float64)\ntf.Tensor(28.39014234066603, shape=(), dtype=float64)\n",
      "tf.Tensor(28.255120854651423, shape=(), dtype=float64)\n",
      "tf.Tensor(27.690826737056447, shape=(), dtype=float64)\n",
      "tf.Tensor(27.565742107439316, shape=(), dtype=float64)\n",
      "tf.Tensor(27.667468833410602, shape=(), dtype=float64)\ntf.Tensor(27.198411244492966, shape=(), dtype=float64)\n",
      "tf.Tensor(26.459290317809156, shape=(), dtype=float64)\n",
      "tf.Tensor(26.201991733455024, shape=(), dtype=float64)\n",
      "tf.Tensor(26.03855908913642, shape=(), dtype=float64)\n",
      "tf.Tensor(25.475597519531537, shape=(), dtype=float64)\ntf.Tensor(24.883502609216514, shape=(), dtype=float64)\n",
      "tf.Tensor(24.55360332100745, shape=(), dtype=float64)\n",
      "tf.Tensor(24.21366093110013, shape=(), dtype=float64)\n",
      "tf.Tensor(23.63508432507033, shape=(), dtype=float64)\n",
      "tf.Tensor(23.13660642868018, shape=(), dtype=float64)\ntf.Tensor(22.762039968703824, shape=(), dtype=float64)\ntf.Tensor(22.302898206837945, shape=(), dtype=float64)\n",
      "tf.Tensor(21.83825139662906, shape=(), dtype=float64)\n",
      "tf.Tensor(21.39311664615569, shape=(), dtype=float64)\n",
      "tf.Tensor(20.90936017090831, shape=(), dtype=float64)\ntf.Tensor(20.469670365760344, shape=(), dtype=float64)\ntf.Tensor(20.0646191811664, shape=(), dtype=float64)\n",
      "tf.Tensor(19.63953557921613, shape=(), dtype=float64)\n",
      "tf.Tensor(19.2120786384018, shape=(), dtype=float64)\ntf.Tensor(18.800452231375473, shape=(), dtype=float64)\n",
      "tf.Tensor(18.397478959202566, shape=(), dtype=float64)\ntf.Tensor(18.005127421870526, shape=(), dtype=float64)\ntf.Tensor(17.610029140024707, shape=(), dtype=float64)\n",
      "tf.Tensor(17.221224898675466, shape=(), dtype=float64)\ntf.Tensor(16.862996072209807, shape=(), dtype=float64)\ntf.Tensor(16.5185967568842, shape=(), dtype=float64)\n",
      "tf.Tensor(16.166082528243106, shape=(), dtype=float64)\ntf.Tensor(15.819183867533772, shape=(), dtype=float64)\ntf.Tensor(15.504002934113705, shape=(), dtype=float64)\ntf.Tensor(15.186255126877665, shape=(), dtype=float64)\n",
      "tf.Tensor(14.857729907360195, shape=(), dtype=float64)\ntf.Tensor(14.550961637379114, shape=(), dtype=float64)\n",
      "tf.Tensor(14.269459396402786, shape=(), dtype=float64)\ntf.Tensor(13.992250898891081, shape=(), dtype=float64)\ntf.Tensor(13.714743245875091, shape=(), dtype=float64)\ntf.Tensor(13.439231720431515, shape=(), dtype=float64)\n",
      "tf.Tensor(13.175788732257114, shape=(), dtype=float64)\ntf.Tensor(12.925582489564613, shape=(), dtype=float64)\ntf.Tensor(12.687304147035553, shape=(), dtype=float64)\n",
      "tf.Tensor(12.452041928015309, shape=(), dtype=float64)\ntf.Tensor(12.217302197727879, shape=(), dtype=float64)\ntf.Tensor(11.992519933694261, shape=(), dtype=float64)\n",
      "tf.Tensor(11.780796585738294, shape=(), dtype=float64)\ntf.Tensor(11.574906727357414, shape=(), dtype=float64)\ntf.Tensor(11.368298149440491, shape=(), dtype=float64)\n",
      "tf.Tensor(11.16833655912317, shape=(), dtype=float64)\ntf.Tensor(10.979698926428537, shape=(), dtype=float64)\n",
      "tf.Tensor(10.797917544442381, shape=(), dtype=float64)\ntf.Tensor(10.617500459390332, shape=(), dtype=float64)\ntf.Tensor(10.442183779330279, shape=(), dtype=float64)\ntf.Tensor(10.271835274522989, shape=(), dtype=float64)\n",
      "tf.Tensor(10.107881766240947, shape=(), dtype=float64)\n",
      "tf.Tensor(9.951626032796774, shape=(), dtype=float64)\ntf.Tensor(9.797865599951638, shape=(), dtype=float64)\ntf.Tensor(9.645252340657871, shape=(), dtype=float64)\ntf.Tensor(9.500133954382179, shape=(), dtype=float64)\n",
      "tf.Tensor(9.359895274475367, shape=(), dtype=float64)\n",
      "tf.Tensor(9.22245971670348, shape=(), dtype=float64)\ntf.Tensor(9.089082669222439, shape=(), dtype=float64)\ntf.Tensor(8.960150062120633, shape=(), dtype=float64)\n",
      "tf.Tensor(8.833752879025722, shape=(), dtype=float64)\n",
      "tf.Tensor(8.710964629752686, shape=(), dtype=float64)\ntf.Tensor(8.592282186117256, shape=(), dtype=float64)\ntf.Tensor(8.477156193646751, shape=(), dtype=float64)\ntf.Tensor(8.364485481387955, shape=(), dtype=float64)\ntf.Tensor(8.254449193609746, shape=(), dtype=float64)\n",
      "tf.Tensor(8.14819387727061, shape=(), dtype=float64)\n",
      "tf.Tensor(8.044708738923976, shape=(), dtype=float64)\ntf.Tensor(7.943370790029184, shape=(), dtype=float64)\ntf.Tensor(7.845427677059927, shape=(), dtype=float64)\ntf.Tensor(7.749843960519046, shape=(), dtype=float64)\n",
      "tf.Tensor(7.656192830793973, shape=(), dtype=float64)\n",
      "tf.Tensor(7.565446132627166, shape=(), dtype=float64)\n"
     ],
     "output_type": "stream"
    }
   ],
   "source": [
    "num_steps = 100\n",
    "optimizer = tf.keras.optimizers.Adam(1e-1)\n",
    "\n",
    "for step in range(num_steps + 1):\n",
    "    \n",
    "    with tf.GradientTape() as tape:\n",
    "        \n",
    "        tape.watch(vfe_gp_stack.trainable_variables)\n",
    "\n",
    "        free_energy = vfe_gp_stack.free_energy()\n",
    "        loss = - free_energy\n",
    "        print(loss)\n",
    "        \n",
    "    gradients = tape.gradient(loss, vfe_gp_stack.trainable_variables)\n",
    "    optimizer.apply_gradients(zip(gradients, vfe_gp_stack.trainable_variables))"
   ],
   "metadata": {
    "collapsed": false,
    "pycharm": {
     "name": "#%%\n",
     "is_executing": false
    }
   }
  },
  {
   "cell_type": "code",
   "execution_count": 10,
   "outputs": [],
   "source": [
    "num_features = 100\n",
    "x = tf.reshape(tf.range(15, dtype=dtype), (5, 3))\n",
    "\n",
    "post_sample = vfe_gp_stack.sample_posterior(num_features=num_features)"
   ],
   "metadata": {
    "collapsed": false,
    "pycharm": {
     "name": "#%%\n",
     "is_executing": false
    }
   }
  },
  {
   "cell_type": "code",
   "execution_count": 11,
   "outputs": [
    {
     "name": "stdout",
     "text": [
      "<dtype: 'float64'> float64\n<dtype: 'float64'> float64\n"
     ],
     "output_type": "stream"
    },
    {
     "data": {
      "text/plain": "<tf.Tensor: shape=(5, 2), dtype=float64, numpy=\narray([[-0.47611649, -0.1618677 ],\n       [ 0.36558313, -0.06068338],\n       [ 0.21869584, -0.32150761],\n       [ 0.3022076 , -0.28994795],\n       [ 0.1693977 ,  0.16263553]])>"
     },
     "metadata": {},
     "output_type": "execute_result",
     "execution_count": 11
    }
   ],
   "source": [
    "post_sample(x, add_noise=True)"
   ],
   "metadata": {
    "collapsed": false,
    "pycharm": {
     "name": "#%%\n",
     "is_executing": false
    }
   }
  },
  {
   "cell_type": "code",
   "execution_count": 12,
   "outputs": [],
   "source": [
    "vfe_gp_stack.add_training_data(x_train=x_train,\n",
    "                               y_train=y_train)"
   ],
   "metadata": {
    "collapsed": false,
    "pycharm": {
     "name": "#%%\n",
     "is_executing": false
    }
   }
  },
  {
   "cell_type": "code",
   "execution_count": 15,
   "outputs": [],
   "source": [
    "tf.debugging.assert_near(vfe_gp.noise, 0.01831, atol=1e-2)\n",
    "\n",
    "\n"
   ],
   "metadata": {
    "collapsed": false,
    "pycharm": {
     "name": "#%%\n",
     "is_executing": false
    }
   }
  }
 ],
 "metadata": {
  "language_info": {
   "codemirror_mode": {
    "name": "ipython",
    "version": 2
   },
   "file_extension": ".py",
   "mimetype": "text/x-python",
   "name": "python",
   "nbconvert_exporter": "python",
   "pygments_lexer": "ipython2",
   "version": "2.7.6"
  },
  "kernelspec": {
   "name": "python3",
   "language": "python",
   "display_name": "Python 3"
  },
  "pycharm": {
   "stem_cell": {
    "cell_type": "raw",
    "source": [],
    "metadata": {
     "collapsed": false
    }
   }
  }
 },
 "nbformat": 4,
 "nbformat_minor": 0
}