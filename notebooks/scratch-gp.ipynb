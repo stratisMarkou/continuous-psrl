{
 "cells": [
  {
   "cell_type": "code",
   "execution_count": 1,
   "metadata": {
    "collapsed": true,
    "pycharm": {
     "is_executing": false
    }
   },
   "outputs": [],
   "source": [
    "import tensorflow as tf\n",
    "import tensorflow_probability as tfp\n",
    "tfd = tfp.distributions\n",
    "\n",
    "from cpsrl.models.mean import ConstantMean, LinearMean\n",
    "from cpsrl.models.covariance import EQ\n",
    "from cpsrl.models.gp import VFEGP\n",
    "from cpsrl.models.gp import VFEGPStack"
   ]
  },
  {
   "cell_type": "code",
   "execution_count": 2,
   "outputs": [
    {
     "data": {
      "text/plain": "<tf.Tensor: shape=(2, 1), dtype=float64, numpy=\narray([[0.],\n       [0.]])>"
     },
     "metadata": {},
     "output_type": "execute_result",
     "execution_count": 2
    }
   ],
   "source": [
    "# Check constant mean works\n",
    "constant_mean = ConstantMean(input_dim=3,\n",
    "                             trainable=True,\n",
    "                             dtype=tf.float64)\n",
    "\n",
    "ones = tf.ones(shape=(2, 3), dtype=tf.float64)\n",
    "constant_mean(ones)\n",
    "\n",
    "# Check linear mean works\n",
    "linear_mean = LinearMean(input_dim=3,\n",
    "                         trainable=True,\n",
    "                         dtype=tf.float64)\n",
    "linear_mean(ones)"
   ],
   "metadata": {
    "collapsed": false,
    "pycharm": {
     "name": "#%%\n",
     "is_executing": false
    }
   }
  },
  {
   "cell_type": "code",
   "execution_count": 4,
   "outputs": [
    {
     "data": {
      "text/plain": "<tf.Tensor: shape=(4, 3), dtype=float64, numpy=\narray([[0.45461663, 0.75667772, 0.32748748],\n       [0.16789625, 0.61026464, 0.05616347],\n       [0.95165817, 0.64532824, 0.70734119],\n       [0.21776285, 0.48481404, 0.16340673]])>"
     },
     "metadata": {},
     "output_type": "execute_result",
     "execution_count": 4
    }
   ],
   "source": [
    "# Check EQ covariance works\n",
    "log_coeff = 0.\n",
    "log_scales = [-1., -1.]\n",
    "\n",
    "# Check EQ kernel works\n",
    "eq = EQ(log_coeff=log_coeff,\n",
    "        log_scales=log_scales,\n",
    "        trainable=True,\n",
    "        dtype=tf.float64)\n",
    "\n",
    "x1 = tf.random.uniform(shape=(4, 2), dtype=tf.float64)\n",
    "x2 = tf.random.uniform(shape=(3, 2), dtype=tf.float64)\n",
    "\n",
    "eq(x1, x2)"
   ],
   "metadata": {
    "collapsed": false,
    "pycharm": {
     "name": "#%%\n",
     "is_executing": false
    }
   }
  },
  {
   "cell_type": "code",
   "execution_count": 5,
   "outputs": [
    {
     "data": {
      "text/plain": "<tf.Tensor: shape=(), dtype=float64, numpy=-470.97936607681567>"
     },
     "metadata": {},
     "output_type": "execute_result",
     "execution_count": 5
    }
   ],
   "source": [
    "# Check VFEGP works\n",
    "dtype = tf.float64\n",
    "trainable_mean = True\n",
    "trainable_cov = True\n",
    "trainable_noise = True\n",
    "trainable_inducing = True\n",
    "log_coeff = -1.\n",
    "log_scales = [-1., -1., -1.]\n",
    "log_noise = -4.\n",
    "\n",
    "num_data = 10\n",
    "state_dim = 2\n",
    "action_dim = 1\n",
    "num_ind = 10\n",
    "\n",
    "x_train = tf.random.uniform(shape=(num_data, state_dim + action_dim), \n",
    "                            dtype=dtype)\n",
    "y_train = tf.random.uniform(shape=(num_data, state_dim),\n",
    "                            dtype=dtype)\n",
    "\n",
    "mean = LinearMean(input_dim=(state_dim+action_dim),\n",
    "                  trainable=trainable_mean,\n",
    "                  dtype=dtype)\n",
    "\n",
    "cov = EQ(log_coeff=log_coeff,\n",
    "         log_scales=log_scales,\n",
    "         trainable=trainable_cov,\n",
    "         dtype=dtype)\n",
    "\n",
    "vfe_gp = VFEGP(mean=mean,\n",
    "               cov=cov,\n",
    "               x_train=x_train,\n",
    "               y_train=y_train[:, :1],\n",
    "               x_ind=None,\n",
    "               num_ind=num_ind,\n",
    "               trainable_inducing=trainable_inducing,\n",
    "               log_noise=log_noise,\n",
    "               trainable_noise=trainable_noise,\n",
    "               dtype=dtype) \n",
    "\n",
    "vfe_gp.free_energy()"
   ],
   "metadata": {
    "collapsed": false,
    "pycharm": {
     "name": "#%%\n",
     "is_executing": false
    }
   }
  },
  {
   "cell_type": "code",
   "execution_count": 6,
   "outputs": [
    {
     "data": {
      "text/plain": "<tf.Tensor: shape=(), dtype=float64, numpy=-1210.0748822821033>"
     },
     "metadata": {},
     "output_type": "execute_result",
     "execution_count": 6
    }
   ],
   "source": [
    "# Check VFEGP works\n",
    "dtype = tf.float64\n",
    "trainable_mean = True\n",
    "trainable_cov = True\n",
    "trainable_noise = True\n",
    "trainable_inducing = True\n",
    "log_coeff = -1.\n",
    "log_scales = [-1., -1., -1.]\n",
    "log_noise = -4.\n",
    "\n",
    "num_data = 10\n",
    "state_dim = 2\n",
    "action_dim = 1\n",
    "num_ind = 10\n",
    "\n",
    "x_train = tf.random.uniform(shape=(num_data, state_dim + action_dim), \n",
    "                            dtype=dtype)\n",
    "y_train = tf.random.uniform(shape=(num_data, state_dim),\n",
    "                            dtype=dtype)\n",
    "\n",
    "means = [LinearMean(input_dim=(state_dim+action_dim),\n",
    "                    trainable=trainable_mean,\n",
    "                    dtype=dtype) for i in range(state_dim)]\n",
    "\n",
    "covs = [EQ(log_coeff=log_coeff,\n",
    "           log_scales=log_scales,\n",
    "           trainable=trainable_cov,\n",
    "           dtype=dtype) for i in range(state_dim)]\n",
    "\n",
    "vfe_gps = [VFEGP(mean=means[i],\n",
    "                 cov=covs[i],\n",
    "                 x_train=x_train,\n",
    "                 y_train=y_train[:, i:i+1],\n",
    "                 x_ind=None,\n",
    "                 num_ind=num_ind,\n",
    "                 trainable_inducing=trainable_inducing,\n",
    "                 log_noise=log_noise,\n",
    "                 trainable_noise=trainable_noise,\n",
    "                 dtype=dtype) \n",
    "           for i in range(state_dim)]\n",
    "\n",
    "vfe_gp_stack = VFEGPStack(vfe_gps=vfe_gps,\n",
    "                          dtype=dtype)\n",
    "\n",
    "vfe_gp_stack.free_energy()"
   ],
   "metadata": {
    "collapsed": false,
    "pycharm": {
     "name": "#%%\n",
     "is_executing": false
    }
   }
  },
  {
   "cell_type": "code",
   "execution_count": 7,
   "outputs": [
    {
     "name": "stdout",
     "text": [
      "tf.Tensor(1210.0748822821033, shape=(), dtype=float64)\ntf.Tensor(692.4862178437866, shape=(), dtype=float64)\ntf.Tensor(416.7765177829333, shape=(), dtype=float64)\ntf.Tensor(248.0064624812943, shape=(), dtype=float64)\ntf.Tensor(159.84568930095722, shape=(), dtype=float64)\ntf.Tensor(113.90334475689448, shape=(), dtype=float64)\n",
      "tf.Tensor(85.32572133597633, shape=(), dtype=float64)\ntf.Tensor(63.99701840925306, shape=(), dtype=float64)\ntf.Tensor(51.081354028647155, shape=(), dtype=float64)\ntf.Tensor(44.126097372778865, shape=(), dtype=float64)\ntf.Tensor(39.64105267140407, shape=(), dtype=float64)\ntf.Tensor(36.91506321665344, shape=(), dtype=float64)\n",
      "tf.Tensor(32.541398390798335, shape=(), dtype=float64)\ntf.Tensor(29.72654026663554, shape=(), dtype=float64)\ntf.Tensor(29.41180951941697, shape=(), dtype=float64)\ntf.Tensor(29.199762167380584, shape=(), dtype=float64)\ntf.Tensor(28.324735983263963, shape=(), dtype=float64)\ntf.Tensor(29.578340406310808, shape=(), dtype=float64)\n",
      "tf.Tensor(28.946382951961674, shape=(), dtype=float64)\ntf.Tensor(28.5050482086467, shape=(), dtype=float64)\ntf.Tensor(28.22042491993775, shape=(), dtype=float64)\ntf.Tensor(28.568561895250163, shape=(), dtype=float64)\ntf.Tensor(28.642095337744376, shape=(), dtype=float64)\ntf.Tensor(27.946524618378852, shape=(), dtype=float64)\n",
      "tf.Tensor(27.271289696318604, shape=(), dtype=float64)\ntf.Tensor(27.141587840107327, shape=(), dtype=float64)\ntf.Tensor(27.377301635786846, shape=(), dtype=float64)\ntf.Tensor(27.435557058919105, shape=(), dtype=float64)\ntf.Tensor(26.974098734471955, shape=(), dtype=float64)\n",
      "tf.Tensor(26.284542180545195, shape=(), dtype=float64)\ntf.Tensor(26.137690919982035, shape=(), dtype=float64)\ntf.Tensor(26.073643364582345, shape=(), dtype=float64)\ntf.Tensor(25.651463733292964, shape=(), dtype=float64)\ntf.Tensor(25.25951586155723, shape=(), dtype=float64)\ntf.Tensor(24.839720756034538, shape=(), dtype=float64)\n",
      "tf.Tensor(24.40934735725522, shape=(), dtype=float64)\ntf.Tensor(24.13588165991961, shape=(), dtype=float64)\ntf.Tensor(23.82092158164759, shape=(), dtype=float64)\ntf.Tensor(23.472272479695924, shape=(), dtype=float64)\ntf.Tensor(23.294108808206786, shape=(), dtype=float64)\n",
      "tf.Tensor(23.04249261453009, shape=(), dtype=float64)\ntf.Tensor(22.57200719923668, shape=(), dtype=float64)\ntf.Tensor(22.13211324494454, shape=(), dtype=float64)\ntf.Tensor(21.837798601702378, shape=(), dtype=float64)\ntf.Tensor(21.54514132986982, shape=(), dtype=float64)\ntf.Tensor(21.205736679744163, shape=(), dtype=float64)\ntf.Tensor(20.87876513569103, shape=(), dtype=float64)\n",
      "tf.Tensor(20.584153546672013, shape=(), dtype=float64)\ntf.Tensor(20.27200595184469, shape=(), dtype=float64)\ntf.Tensor(19.93420289728445, shape=(), dtype=float64)\ntf.Tensor(19.593601321109624, shape=(), dtype=float64)\ntf.Tensor(19.275077007115826, shape=(), dtype=float64)\ntf.Tensor(18.97783913336751, shape=(), dtype=float64)\n",
      "tf.Tensor(18.709824502407415, shape=(), dtype=float64)\ntf.Tensor(18.48288377871839, shape=(), dtype=float64)\ntf.Tensor(18.230688592740965, shape=(), dtype=float64)\ntf.Tensor(17.920964180113838, shape=(), dtype=float64)\ntf.Tensor(17.624123364600752, shape=(), dtype=float64)\ntf.Tensor(17.365995757005273, shape=(), dtype=float64)\n",
      "tf.Tensor(17.118704866943183, shape=(), dtype=float64)\ntf.Tensor(16.887325028100754, shape=(), dtype=float64)\ntf.Tensor(16.662175109112617, shape=(), dtype=float64)\ntf.Tensor(16.426414870624903, shape=(), dtype=float64)\ntf.Tensor(16.190854831879165, shape=(), dtype=float64)\n",
      "tf.Tensor(15.963551263194315, shape=(), dtype=float64)\ntf.Tensor(15.744730334735781, shape=(), dtype=float64)\ntf.Tensor(15.537350906146607, shape=(), dtype=float64)\ntf.Tensor(15.336128756960292, shape=(), dtype=float64)\ntf.Tensor(15.137475459129725, shape=(), dtype=float64)\ntf.Tensor(14.945333017582007, shape=(), dtype=float64)\n",
      "tf.Tensor(14.757768472310858, shape=(), dtype=float64)\ntf.Tensor(14.571978887519855, shape=(), dtype=float64)\ntf.Tensor(14.391923871119257, shape=(), dtype=float64)\ntf.Tensor(14.217215498384807, shape=(), dtype=float64)\ntf.Tensor(14.04649809332252, shape=(), dtype=float64)\n",
      "tf.Tensor(13.881583180941037, shape=(), dtype=float64)\ntf.Tensor(13.720044198842025, shape=(), dtype=float64)\ntf.Tensor(13.561014458125102, shape=(), dtype=float64)\ntf.Tensor(13.410129880613942, shape=(), dtype=float64)\ntf.Tensor(13.264471772963214, shape=(), dtype=float64)\ntf.Tensor(13.119056393586483, shape=(), dtype=float64)\n",
      "tf.Tensor(12.977199248032171, shape=(), dtype=float64)\ntf.Tensor(12.840390774699124, shape=(), dtype=float64)\ntf.Tensor(12.705967929677836, shape=(), dtype=float64)\ntf.Tensor(12.574201621594032, shape=(), dtype=float64)\ntf.Tensor(12.446171536670443, shape=(), dtype=float64)\ntf.Tensor(12.321976669281778, shape=(), dtype=float64)\n",
      "tf.Tensor(12.20148576062277, shape=(), dtype=float64)\ntf.Tensor(12.083643009081321, shape=(), dtype=float64)\ntf.Tensor(11.967852284438726, shape=(), dtype=float64)\ntf.Tensor(11.855219023734787, shape=(), dtype=float64)\ntf.Tensor(11.74561852070447, shape=(), dtype=float64)\n",
      "tf.Tensor(11.638289900638295, shape=(), dtype=float64)\ntf.Tensor(11.533296421494969, shape=(), dtype=float64)\ntf.Tensor(11.430261447755985, shape=(), dtype=float64)\ntf.Tensor(11.32949757663609, shape=(), dtype=float64)\ntf.Tensor(11.231746080929694, shape=(), dtype=float64)\n",
      "tf.Tensor(11.136293578736053, shape=(), dtype=float64)\ntf.Tensor(11.04250367064481, shape=(), dtype=float64)\ntf.Tensor(10.950725125382636, shape=(), dtype=float64)\ntf.Tensor(10.860801368528428, shape=(), dtype=float64)\n"
     ],
     "output_type": "stream"
    }
   ],
   "source": [
    "num_steps = 100\n",
    "optimizer = tf.keras.optimizers.Adam(1e-1)\n",
    "\n",
    "for step in range(num_steps + 1):\n",
    "    \n",
    "    with tf.GradientTape() as tape:\n",
    "        \n",
    "        tape.watch(vfe_gp_stack.trainable_variables)\n",
    "\n",
    "        free_energy = vfe_gp_stack.free_energy()\n",
    "        loss = - free_energy\n",
    "        print(loss)\n",
    "        \n",
    "    gradients = tape.gradient(loss, vfe_gp_stack.trainable_variables)\n",
    "    optimizer.apply_gradients(zip(gradients, vfe_gp_stack.trainable_variables))"
   ],
   "metadata": {
    "collapsed": false,
    "pycharm": {
     "name": "#%%\n",
     "is_executing": false
    }
   }
  },
  {
   "cell_type": "code",
   "execution_count": 8,
   "outputs": [],
   "source": [
    "num_features = 100\n",
    "x = tf.reshape(tf.range(15, dtype=dtype), (5, 3))\n",
    "\n",
    "post_sample = vfe_gp_stack.sample_posterior(num_features=num_features)"
   ],
   "metadata": {
    "collapsed": false,
    "pycharm": {
     "name": "#%%\n",
     "is_executing": false
    }
   }
  },
  {
   "cell_type": "code",
   "execution_count": 9,
   "outputs": [
    {
     "name": "stdout",
     "text": [
      "<dtype: 'float64'> float64\n<dtype: 'float64'> float64\n"
     ],
     "output_type": "stream"
    },
    {
     "data": {
      "text/plain": "<tf.Tensor: shape=(5, 2), dtype=float64, numpy=\narray([[-0.51045312, -0.06198798],\n       [-0.4647949 ,  0.38561912],\n       [ 0.19704099, -0.03896912],\n       [-0.15327298,  0.09607156],\n       [ 0.03273747,  0.21871951]])>"
     },
     "metadata": {},
     "output_type": "execute_result",
     "execution_count": 9
    }
   ],
   "source": [
    "post_sample(x, add_noise=True)"
   ],
   "metadata": {
    "collapsed": false,
    "pycharm": {
     "name": "#%%\n",
     "is_executing": false
    }
   }
  },
  {
   "cell_type": "code",
   "execution_count": 10,
   "outputs": [],
   "source": [
    "vfe_gp_stack.add_training_data(x_train=x_train,\n",
    "                               y_train=y_train)"
   ],
   "metadata": {
    "collapsed": false,
    "pycharm": {
     "name": "#%%\n",
     "is_executing": false
    }
   }
  },
  {
   "cell_type": "code",
   "execution_count": 11,
   "outputs": [],
   "source": [
    "tf.debugging.assert_near(vfe_gp.noise, 0.01831, atol=1e-2)\n",
    "\n"
   ],
   "metadata": {
    "collapsed": false,
    "pycharm": {
     "name": "#%%\n",
     "is_executing": false
    }
   }
  },
  {
   "cell_type": "code",
   "execution_count": 29,
   "outputs": [
    {
     "name": "stdout",
     "text": [
      "tf.Tensor(114.78252421782885, shape=(), dtype=float64)\ntf.Tensor(94.2427234204038, shape=(), dtype=float64)\n",
      "tf.Tensor(77.59866483368164, shape=(), dtype=float64)\ntf.Tensor(64.16610213210078, shape=(), dtype=float64)\n",
      "tf.Tensor(53.352013015034174, shape=(), dtype=float64)\ntf.Tensor(44.65404202048799, shape=(), dtype=float64)\n",
      "tf.Tensor(37.65485162270215, shape=(), dtype=float64)\ntf.Tensor(32.013224601398576, shape=(), dtype=float64)\n",
      "tf.Tensor(27.453651523557056, shape=(), dtype=float64)\ntf.Tensor(23.75574561521531, shape=(), dtype=float64)\n",
      "tf.Tensor(20.74435998297896, shape=(), dtype=float64)\ntf.Tensor(18.280871047081142, shape=(), dtype=float64)\n",
      "tf.Tensor(16.255790885878675, shape=(), dtype=float64)\ntf.Tensor(14.582681321584841, shape=(), dtype=float64)\n",
      "tf.Tensor(13.193241139004792, shape=(), dtype=float64)\ntf.Tensor(12.033396756096051, shape=(), dtype=float64)\n",
      "tf.Tensor(11.060221910760397, shape=(), dtype=float64)\ntf.Tensor(10.239526184652478, shape=(), dtype=float64)\n",
      "tf.Tensor(9.5439743976027, shape=(), dtype=float64)\ntf.Tensor(8.951622718568176, shape=(), dtype=float64)\n",
      "tf.Tensor(8.444779511062224, shape=(), dtype=float64)\ntf.Tensor(8.00911810673317, shape=(), dtype=float64)\n",
      "tf.Tensor(7.632984566128667, shape=(), dtype=float64)\ntf.Tensor(7.30685624386769, shape=(), dtype=float64)\n",
      "tf.Tensor(7.022917043267358, shape=(), dtype=float64)\ntf.Tensor(6.7747230907816265, shape=(), dtype=float64)\n",
      "tf.Tensor(6.556938623511154, shape=(), dtype=float64)\ntf.Tensor(6.365126544022155, shape=(), dtype=float64)\n",
      "tf.Tensor(6.195581669203105, shape=(), dtype=float64)\ntf.Tensor(6.045197434432649, shape=(), dtype=float64)\n",
      "tf.Tensor(5.911358907300649, shape=(), dtype=float64)\ntf.Tensor(5.791856568434932, shape=(), dtype=float64)\n",
      "tf.Tensor(5.684816547155851, shape=(), dtype=float64)\ntf.Tensor(5.5886439455820325, shape=(), dtype=float64)\n",
      "tf.Tensor(5.50197661400554, shape=(), dtype=float64)\ntf.Tensor(5.423647304118806, shape=(), dtype=float64)\n",
      "tf.Tensor(5.352652563906944, shape=(), dtype=float64)\ntf.Tensor(5.288127078239972, shape=(), dtype=float64)\n",
      "tf.Tensor(5.229322424844257, shape=(), dtype=float64)\ntf.Tensor(5.175589423478132, shape=(), dtype=float64)\n",
      "tf.Tensor(5.126363419811629, shape=(), dtype=float64)\ntf.Tensor(5.081151974678386, shape=(), dtype=float64)\n",
      "tf.Tensor(5.039524531670787, shape=(), dtype=float64)\ntf.Tensor(5.001103717364703, shape=(), dtype=float64)\n",
      "tf.Tensor(4.965557993323305, shape=(), dtype=float64)\ntf.Tensor(4.932595430950251, shape=(), dtype=float64)\n",
      "tf.Tensor(4.901958421967162, shape=(), dtype=float64)\n",
      "tf.Tensor(4.873419170902792, shape=(), dtype=float64)\ntf.Tensor(4.846775843161717, shape=(), dtype=float64)\n",
      "tf.Tensor(4.821849264291476, shape=(), dtype=float64)\n",
      "tf.Tensor(4.79848008401356, shape=(), dtype=float64)\ntf.Tensor(4.7765263332351156, shape=(), dtype=float64)\n",
      "tf.Tensor(4.755861314255724, shape=(), dtype=float64)\n",
      "tf.Tensor(4.736371774237055, shape=(), dtype=float64)\ntf.Tensor(4.717956320118883, shape=(), dtype=float64)\n",
      "tf.Tensor(4.700524039868164, shape=(), dtype=float64)\ntf.Tensor(4.683993300499462, shape=(), dtype=float64)\n",
      "tf.Tensor(4.6682906979151735, shape=(), dtype=float64)\ntf.Tensor(4.6533501374520805, shape=(), dtype=float64)\n",
      "tf.Tensor(4.639112027224505, shape=(), dtype=float64)\ntf.Tensor(4.625522569034744, shape=(), dtype=float64)\n",
      "tf.Tensor(4.612533133869903, shape=(), dtype=float64)\n",
      "tf.Tensor(4.600099710894428, shape=(), dtype=float64)\ntf.Tensor(4.5881824204406305, shape=(), dtype=float64)\n",
      "tf.Tensor(4.576745082844897, shape=(), dtype=float64)\ntf.Tensor(4.5657548361162945, shape=(), dtype=float64)\n",
      "tf.Tensor(4.555181796390604, shape=(), dtype=float64)\n",
      "tf.Tensor(4.544998755944508, shape=(), dtype=float64)\ntf.Tensor(4.5351809142448465, shape=(), dtype=float64)\n",
      "tf.Tensor(4.52570563810588, shape=(), dtype=float64)\n",
      "tf.Tensor(4.516552247539233, shape=(), dtype=float64)\ntf.Tensor(4.507701824320114, shape=(), dtype=float64)\n",
      "tf.Tensor(4.499137040670768, shape=(), dtype=float64)\n",
      "tf.Tensor(4.490842005786889, shape=(), dtype=float64)\ntf.Tensor(4.4828021282133825, shape=(), dtype=float64)\n",
      "tf.Tensor(4.475003992318241, shape=(), dtype=float64)\ntf.Tensor(4.467435247323683, shape=(), dtype=float64)\n",
      "tf.Tensor(4.460084507536202, shape=(), dtype=float64)\ntf.Tensor(4.452941262576121, shape=(), dtype=float64)\n",
      "tf.Tensor(4.445995796545742, shape=(), dtype=float64)\ntf.Tensor(4.439239115196286, shape=(), dtype=float64)\n",
      "tf.Tensor(4.432662880259727, shape=(), dtype=float64)\ntf.Tensor(4.426259350204619, shape=(), dtype=float64)\n",
      "tf.Tensor(4.4200213267566415, shape=(), dtype=float64)\ntf.Tensor(4.413942106596466, shape=(), dtype=float64)\n",
      "tf.Tensor(4.408015437710969, shape=(), dtype=float64)\ntf.Tensor(4.402235479929787, shape=(), dtype=float64)\n",
      "tf.Tensor(4.396596769228774, shape=(), dtype=float64)\ntf.Tensor(4.391094185425782, shape=(), dtype=float64)\n",
      "tf.Tensor(4.385722922933231, shape=(), dtype=float64)\ntf.Tensor(4.380478464266496, shape=(), dtype=float64)\n",
      "tf.Tensor(4.375356556038021, shape=(), dtype=float64)\ntf.Tensor(4.370353187194513, shape=(), dtype=float64)\n",
      "tf.Tensor(4.365464569279132, shape=(), dtype=float64)\ntf.Tensor(4.360687118522464, shape=(), dtype=float64)\n",
      "tf.Tensor(4.356017439585685, shape=(), dtype=float64)\ntf.Tensor(4.35145231079686, shape=(), dtype=float64)\n",
      "tf.Tensor(4.3469886707370655, shape=(), dtype=float64)\ntf.Tensor(4.342623606047096, shape=(), dtype=float64)\n",
      "tf.Tensor(4.338354340338256, shape=(), dtype=float64)\ntf.Tensor(4.334178224102032, shape=(), dtype=float64)\n"
     ],
     "output_type": "stream"
    },
    {
     "data": {
      "text/plain": "<Figure size 432x288 with 1 Axes>",
      "image/png": "[encoded data removed]"
     },
     "metadata": {
      "needs_background": "light"
     },
     "output_type": "display_data"
    }
   ],
   "source": [
    "DTYPE = tf.float64\n",
    "\n",
    "# Set random seed to run the same test always\n",
    "tf.random.set_seed(0)\n",
    "\n",
    "# Number of datapoints and input dimension\n",
    "N = 200\n",
    "D = 1\n",
    "\n",
    "# Set all parameters to trainable\n",
    "trainable_mean = False\n",
    "trainable_cov = False\n",
    "trainable_noise = True\n",
    "trainable_inducing = False\n",
    "\n",
    "log_coeff = -6.\n",
    "log_scales = D * [2.]\n",
    "log_noise = 0.\n",
    "num_ind = N\n",
    "\n",
    "# Draw random data\n",
    "x_train = 2 * tf.random.uniform(shape=(N, D),\n",
    "                                dtype=DTYPE)\n",
    "\n",
    "y_train = tf.random.normal(mean=0.,\n",
    "                           stddev=1.,\n",
    "                           shape=(N, 1),\n",
    "                           dtype=DTYPE)\n",
    "\n",
    "# Initialise mean and covariance\n",
    "mean = ConstantMean(input_dim=D,\n",
    "                    trainable=trainable_mean,\n",
    "                    dtype=DTYPE)\n",
    "\n",
    "cov = EQ(log_coeff=log_coeff,\n",
    "         log_scales=log_scales,\n",
    "         trainable=trainable_cov,\n",
    "         dtype=DTYPE)\n",
    "\n",
    "# Initialise Variational Free Energy GP\n",
    "vfe_gp = VFEGP(mean=mean,\n",
    "               cov=cov,\n",
    "               x_train=x_train,\n",
    "               y_train=y_train,\n",
    "               x_ind=None,\n",
    "               num_ind=num_ind,\n",
    "               trainable_inducing=trainable_inducing,\n",
    "               log_noise=log_noise,\n",
    "               trainable_noise=trainable_noise,\n",
    "               dtype=DTYPE)\n",
    "\n",
    "# Check optimisation works without error\n",
    "num_steps = 100\n",
    "optimizer = tf.keras.optimizers.Adam(1e-1)\n",
    "\n",
    "normal = tfd.MultivariateNormalFullCovariance\n",
    "\n",
    "for step in range(num_steps + 1):\n",
    "    with tf.GradientTape() as tape:\n",
    "        tape.watch(vfe_gp.trainable_variables)\n",
    "\n",
    "        free_energy = vfe_gp.free_energy()\n",
    "        loss = - free_energy\n",
    "\n",
    "    gradients = tape.gradient(loss, vfe_gp.trainable_variables)\n",
    "    optimizer.apply_gradients(zip(gradients, vfe_gp.trainable_variables)"
   ],
   "metadata": {
    "collapsed": false,
    "pycharm": {
     "name": "#%%\n",
     "is_executing": false
    }
   }
  },
  {
   "cell_type": "code",
   "execution_count": null,
   "outputs": [],
   "source": [
    "\n"
   ],
   "metadata": {
    "collapsed": false,
    "pycharm": {
     "name": "#%%\n"
    }
   }
  }
 ],
 "metadata": {
  "language_info": {
   "codemirror_mode": {
    "name": "ipython",
    "version": 2
   },
   "file_extension": ".py",
   "mimetype": "text/x-python",
   "name": "python",
   "nbconvert_exporter": "python",
   "pygments_lexer": "ipython2",
   "version": "2.7.6"
  },
  "kernelspec": {
   "name": "python3",
   "language": "python",
   "display_name": "Python 3"
  },
  "pycharm": {
   "stem_cell": {
    "cell_type": "raw",
    "source": [],
    "metadata": {
     "collapsed": false
    }
   }
  }
 },
 "nbformat": 4,
 "nbformat_minor": 0
}