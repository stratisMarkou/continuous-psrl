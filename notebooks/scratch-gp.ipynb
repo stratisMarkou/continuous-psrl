{
 "cells": [
  {
   "cell_type": "code",
   "execution_count": 1,
   "metadata": {
    "collapsed": true,
    "pycharm": {
     "is_executing": false
    }
   },
   "outputs": [],
   "source": [
    "import tensorflow as tf\n",
    "from cpsrl.models.mean import ConstantMean, LinearMean\n",
    "from cpsrl.models.covariance import EQ\n",
    "from cpsrl.models.gp import VFEGP\n",
    "from cpsrl.models.gp import VFEGPStack"
   ]
  },
  {
   "cell_type": "code",
   "execution_count": 2,
   "outputs": [
    {
     "data": {
      "text/plain": "<tf.Tensor: shape=(2,), dtype=float64, numpy=array([0., 0.])>"
     },
     "metadata": {},
     "output_type": "execute_result",
     "execution_count": 2
    }
   ],
   "source": [
    "# Check constant mean works\n",
    "constant_mean = ConstantMean(trainable=True,\n",
    "                             dtype=tf.float64)\n",
    "\n",
    "ones = tf.ones(shape=(2, 3), dtype=tf.float64)\n",
    "constant_mean(ones)\n",
    "\n",
    "# Check linear mean works\n",
    "linear_mean = LinearMean(input_dim=3,\n",
    "                         trainable=True,\n",
    "                         dtype=tf.float64)\n",
    "linear_mean(ones)"
   ],
   "metadata": {
    "collapsed": false,
    "pycharm": {
     "name": "#%%\n",
     "is_executing": false
    }
   }
  },
  {
   "cell_type": "code",
   "execution_count": 3,
   "outputs": [
    {
     "data": {
      "text/plain": "<tf.Tensor: shape=(4, 3), dtype=float64, numpy=\narray([[0.12742794, 0.82043448, 0.30216512],\n       [0.27389163, 0.28310373, 0.87914323],\n       [0.03224904, 0.109014  , 0.00734735],\n       [0.13637333, 0.6393487 , 0.51403885]])>"
     },
     "metadata": {},
     "output_type": "execute_result",
     "execution_count": 3
    }
   ],
   "source": [
    "# Check EQ covariance works\n",
    "log_coeff = 0.\n",
    "log_scales = [-1., -1.]\n",
    "\n",
    "# Check EQ kernel works\n",
    "eq = EQ(log_coeff=log_coeff,\n",
    "        log_scales=log_scales,\n",
    "        trainable=True,\n",
    "        dtype=tf.float64)\n",
    "\n",
    "x1 = tf.random.uniform(shape=(4, 2), dtype=tf.float64)\n",
    "x2 = tf.random.uniform(shape=(3, 2), dtype=tf.float64)\n",
    "\n",
    "eq(x1, x2)"
   ],
   "metadata": {
    "collapsed": false,
    "pycharm": {
     "name": "#%%\n",
     "is_executing": false
    }
   }
  },
  {
   "cell_type": "code",
   "execution_count": 4,
   "outputs": [
    {
     "data": {
      "text/plain": "<tf.Tensor: shape=(), dtype=float64, numpy=-910.2239764424369>"
     },
     "metadata": {},
     "output_type": "execute_result",
     "execution_count": 4
    }
   ],
   "source": [
    "# Check VFEGP works\n",
    "dtype = tf.float64\n",
    "trainable_mean = True\n",
    "trainable_cov = True\n",
    "trainable_noise = True\n",
    "trainable_inducing = True\n",
    "log_coeff = -1.\n",
    "log_scales = [-1., -1., -1.]\n",
    "log_noise = -4.\n",
    "\n",
    "num_data = 10\n",
    "state_dim = 2\n",
    "action_dim = 1\n",
    "\n",
    "x_train = tf.random.uniform(shape=(num_data, state_dim + action_dim), \n",
    "                            dtype=dtype)\n",
    "y_train = tf.random.uniform(shape=(num_data, state_dim),\n",
    "                            dtype=dtype)\n",
    "\n",
    "mean = LinearMean(input_dim=(state_dim+action_dim),\n",
    "                  trainable=trainable_mean,\n",
    "                  dtype=dtype)\n",
    "\n",
    "cov = EQ(log_coeff=log_coeff,\n",
    "         log_scales=log_scales,\n",
    "         trainable=trainable_cov,\n",
    "         dtype=dtype)\n",
    "\n",
    "vfe_gp = VFEGP(mean=mean,\n",
    "               cov=cov,\n",
    "               x_train=x_train,\n",
    "               y_train=y_train[:, :1],\n",
    "               x_ind=None,\n",
    "               ind_fraction=0.1,\n",
    "               trainable_inducing=trainable_inducing,\n",
    "               log_noise=log_noise,\n",
    "               trainable_noise=trainable_noise,\n",
    "               dtype=dtype) \n",
    "\n",
    "vfe_gp.free_energy()"
   ],
   "metadata": {
    "collapsed": false,
    "pycharm": {
     "name": "#%%\n",
     "is_executing": false
    }
   }
  },
  {
   "cell_type": "code",
   "execution_count": 5,
   "outputs": [
    {
     "data": {
      "text/plain": "<tf.Tensor: shape=(), dtype=float64, numpy=-1680.944491665882>"
     },
     "metadata": {},
     "output_type": "execute_result",
     "execution_count": 5
    }
   ],
   "source": [
    "# Check VFEGP works\n",
    "dtype = tf.float64\n",
    "trainable_mean = True\n",
    "trainable_cov = True\n",
    "trainable_noise = True\n",
    "trainable_inducing = True\n",
    "log_coeff = -1.\n",
    "log_scales = [-1., -1., -1.]\n",
    "log_noise = -4.\n",
    "\n",
    "num_data = 10\n",
    "state_dim = 2\n",
    "action_dim = 1\n",
    "\n",
    "x_train = tf.random.uniform(shape=(num_data, state_dim + action_dim), \n",
    "                            dtype=dtype)\n",
    "y_train = tf.random.uniform(shape=(num_data, state_dim),\n",
    "                            dtype=dtype)\n",
    "\n",
    "means = [LinearMean(input_dim=(state_dim+action_dim),\n",
    "                    trainable=trainable_mean,\n",
    "                    dtype=dtype) for i in range(state_dim)]\n",
    "\n",
    "covs = [EQ(log_coeff=log_coeff,\n",
    "           log_scales=log_scales,\n",
    "           trainable=trainable_cov,\n",
    "           dtype=dtype) for i in range(state_dim)]\n",
    "\n",
    "vfe_gps = [VFEGP(mean=means[i],\n",
    "                 cov=covs[i],\n",
    "                 x_train=x_train,\n",
    "                 y_train=y_train[:, i:i+1],\n",
    "                 x_ind=None,\n",
    "                 ind_fraction=0.1,\n",
    "                 trainable_inducing=trainable_inducing,\n",
    "                 log_noise=log_noise,\n",
    "                 trainable_noise=trainable_noise,\n",
    "                 dtype=dtype) \n",
    "           for i in range(state_dim)]\n",
    "\n",
    "vfe_gp_stack = VFEGPStack(vfe_gps=vfe_gps,\n",
    "                          dtype=dtype)\n",
    "\n",
    "vfe_gp_stack.free_energy()"
   ],
   "metadata": {
    "collapsed": false,
    "pycharm": {
     "name": "#%%\n",
     "is_executing": false
    }
   }
  },
  {
   "cell_type": "code",
   "execution_count": 5,
   "outputs": [],
   "source": [
    "\n"
   ],
   "metadata": {
    "collapsed": false,
    "pycharm": {
     "name": "#%%\n",
     "is_executing": false
    }
   }
  }
 ],
 "metadata": {
  "language_info": {
   "codemirror_mode": {
    "name": "ipython",
    "version": 2
   },
   "file_extension": ".py",
   "mimetype": "text/x-python",
   "name": "python",
   "nbconvert_exporter": "python",
   "pygments_lexer": "ipython2",
   "version": "2.7.6"
  },
  "kernelspec": {
   "name": "python3",
   "language": "python",
   "display_name": "Python 3"
  },
  "pycharm": {
   "stem_cell": {
    "cell_type": "raw",
    "source": [],
    "metadata": {
     "collapsed": false
    }
   }
  }
 },
 "nbformat": 4,
 "nbformat_minor": 0
}