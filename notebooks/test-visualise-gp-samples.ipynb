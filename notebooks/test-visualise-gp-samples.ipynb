{
 "cells": [
  {
   "cell_type": "code",
   "execution_count": 2,
   "metadata": {
    "collapsed": true,
    "pycharm": {
     "is_executing": false
    }
   },
   "outputs": [],
   "source": [
    "from cpsrl.models.mean import LinearMean\n",
    "from cpsrl.models.covariance import EQ\n",
    "from cpsrl.models.gp import VFEGP\n",
    "\n",
    "import tensorflow as tf\n",
    "import numpy as np\n",
    "import matplotlib.pyplot as plt\n",
    "\n",
    "dtype = tf.float64"
   ]
  },
  {
   "cell_type": "code",
   "execution_count": 47,
   "outputs": [],
   "source": [
    "def f(x):\n",
    "    return tf.sin(2 * np.pi * x) + 0.5 * x\n",
    "\n",
    "xmin = -1.\n",
    "xmax = 1.\n",
    "num_points = 20\n",
    "data_noise = 1e-1\n",
    "\n",
    "x_train = tf.random.uniform(minval=xmin, maxval=xmax, shape=(num_points, 1))\n",
    "x_train = tf.cast(x_train, dtype=dtype)\n",
    "\n",
    "y_train = f(x_train)\n",
    "y_train = y_train + tf.random.normal(mean=0.,\n",
    "                                     stddev=data_noise,\n",
    "                                     shape=(num_points, 1),\n",
    "                                     dtype=dtype)"
   ],
   "metadata": {
    "collapsed": false,
    "pycharm": {
     "name": "#%%\n",
     "is_executing": false
    }
   }
  },
  {
   "cell_type": "code",
   "execution_count": 48,
   "outputs": [
    {
     "data": {
      "text/plain": "<Figure size 432x288 with 1 Axes>",
      "image/png": "[encoded data removed]"
     },
     "metadata": {
      "needs_background": "light"
     },
     "output_type": "display_data"
    }
   ],
   "source": [
    "plt.scatter(x_train.numpy(), y_train.numpy())\n",
    "plt.show()"
   ],
   "metadata": {
    "collapsed": false,
    "pycharm": {
     "name": "#%%\n",
     "is_executing": false
    }
   }
  },
  {
   "cell_type": "code",
   "execution_count": 49,
   "outputs": [],
   "source": [
    "trainable_mean = True\n",
    "\n",
    "linear_mean = LinearMean(input_dim=1,\n",
    "                         trainable=trainable_mean,\n",
    "                         dtype=dtype)"
   ],
   "metadata": {
    "collapsed": false,
    "pycharm": {
     "name": "#%%\n",
     "is_executing": false
    }
   }
  },
  {
   "cell_type": "code",
   "execution_count": 82,
   "outputs": [
    {
     "name": "stdout",
     "text": [
      "tf.Tensor(222.8542995003134, shape=(), dtype=float64)\n",
      "tf.Tensor(3.3653375567767667, shape=(), dtype=float64)\n",
      "tf.Tensor(2.7367769006204696, shape=(), dtype=float64)\n",
      "tf.Tensor(2.5928897817988186, shape=(), dtype=float64)\n",
      "tf.Tensor(2.5543164886882743, shape=(), dtype=float64)\n",
      "tf.Tensor(2.5437895489283324, shape=(), dtype=float64)\n",
      "tf.Tensor(2.541079296866326, shape=(), dtype=float64)\n",
      "tf.Tensor(2.5404519419539153, shape=(), dtype=float64)\n",
      "tf.Tensor(2.5403256246049555, shape=(), dtype=float64)\n",
      "tf.Tensor(2.540304012328252, shape=(), dtype=float64)\n",
      "tf.Tensor(2.540300922979416, shape=(), dtype=float64)\n"
     ],
     "output_type": "stream"
    }
   ],
   "source": [
    "# Set random seed to run the same test always\n",
    "tf.random.set_seed(0)\n",
    "\n",
    "# Set all parameters to trainable\n",
    "trainable_mean = False\n",
    "trainable_cov = False\n",
    "trainable_noise = True\n",
    "trainable_inducing = False\n",
    "\n",
    "log_coeff = 0.\n",
    "log_scales = [-1.]\n",
    "log_noise = -2.\n",
    "num_ind = num_points\n",
    "\n",
    "# Initialise mean and covariance\n",
    "mean = LinearMean(input_dim=1,\n",
    "                  trainable=trainable_mean,\n",
    "                  dtype=dtype)\n",
    "\n",
    "cov = EQ(log_coeff=log_coeff,\n",
    "         log_scales=log_scales,\n",
    "         trainable=trainable_cov,\n",
    "         dtype=dtype)\n",
    "\n",
    "# Initialise Variational Free Energy GP\n",
    "vfe_gp = VFEGP(mean=mean,\n",
    "               cov=cov,\n",
    "               input_dim=1,\n",
    "               x_train=x_train,\n",
    "               y_train=y_train,\n",
    "               x_ind=None,\n",
    "               num_ind=num_ind,\n",
    "               trainable_inducing=trainable_inducing,\n",
    "               log_noise=log_noise,\n",
    "               trainable_noise=trainable_noise,\n",
    "               dtype=dtype)\n",
    "\n",
    "# Check optimisation works without error\n",
    "num_steps = 1000\n",
    "optimizer = tf.keras.optimizers.Adam(1e-1)\n",
    "\n",
    "for step in range(num_steps + 1):\n",
    "    with tf.GradientTape() as tape:\n",
    "        tape.watch(vfe_gp.trainable_variables)\n",
    "\n",
    "        free_energy = vfe_gp.free_energy()\n",
    "        loss = - free_energy\n",
    "        if step % 100 == 0: print(loss)\n",
    "\n",
    "    gradients = tape.gradient(loss, vfe_gp.trainable_variables)\n",
    "    optimizer.apply_gradients(zip(gradients, vfe_gp.trainable_variables))"
   ],
   "metadata": {
    "collapsed": false,
    "pycharm": {
     "name": "#%%\n",
     "is_executing": false
    }
   }
  },
  {
   "cell_type": "code",
   "execution_count": 83,
   "outputs": [],
   "source": [
    "x_pred = tf.cast(tf.linspace(-1., 1., 200)[:, None], dtype=dtype)\n",
    "mean_pred, cov_pred = vfe_gp.post_pred(x_pred=x_pred)"
   ],
   "metadata": {
    "collapsed": false,
    "pycharm": {
     "name": "#%%\n",
     "is_executing": false
    }
   }
  },
  {
   "cell_type": "code",
   "execution_count": 84,
   "outputs": [
    {
     "data": {
      "text/plain": "<Figure size 432x288 with 1 Axes>",
      "image/png": "[encoded data removed]"
     },
     "metadata": {
      "needs_background": "light"
     },
     "output_type": "display_data"
    }
   ],
   "source": [
    "x_plot = x_pred[:, 0].numpy()\n",
    "mean_plot = mean_pred.numpy()\n",
    "std_plot  = tf.linalg.diag_part(cov_pred) ** 0.5\n",
    "\n",
    "plt.plot(x_pred, mean_plot)\n",
    "plt.fill_between(x_plot,\n",
    "                 mean_plot - 2 * std_plot,\n",
    "                 mean_plot + 2 * std_plot)\n",
    "plt.scatter(x_train.numpy(), y_train.numpy())\n",
    "plt.show()"
   ],
   "metadata": {
    "collapsed": false,
    "pycharm": {
     "name": "#%%\n",
     "is_executing": false
    }
   }
  },
  {
   "cell_type": "code",
   "execution_count": 85,
   "outputs": [
    {
     "name": "stdout",
     "text": [
      "tf.Tensor([0.36787944], shape=(1,), dtype=float64) tf.Tensor(3.029871886539901, shape=(), dtype=float64)\n"
     ],
     "output_type": "stream"
    }
   ],
   "source": [
    "print(vfe_gp.cov.scales, vfe_gp.noise)"
   ],
   "metadata": {
    "collapsed": false,
    "pycharm": {
     "name": "#%%\n",
     "is_executing": false
    }
   }
  },
  {
   "cell_type": "code",
   "execution_count": null,
   "outputs": [],
   "source": [
    "\n"
   ],
   "metadata": {
    "collapsed": false,
    "pycharm": {
     "name": "#%%\n"
    }
   }
  }
 ],
 "metadata": {
  "language_info": {
   "codemirror_mode": {
    "name": "ipython",
    "version": 2
   },
   "file_extension": ".py",
   "mimetype": "text/x-python",
   "name": "python",
   "nbconvert_exporter": "python",
   "pygments_lexer": "ipython2",
   "version": "2.7.6"
  },
  "kernelspec": {
   "name": "python3",
   "language": "python",
   "display_name": "Python 3"
  },
  "pycharm": {
   "stem_cell": {
    "cell_type": "raw",
    "source": [],
    "metadata": {
     "collapsed": false
    }
   }
  }
 },
 "nbformat": 4,
 "nbformat_minor": 0
}