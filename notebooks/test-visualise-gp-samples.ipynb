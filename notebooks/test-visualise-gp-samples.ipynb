{
 "cells": [
  {
   "cell_type": "code",
   "execution_count": null,
   "metadata": {
    "collapsed": true,
    "pycharm": {
     "is_executing": true
    }
   },
   "outputs": [],
   "source": [
    "from cpsrl.models.mean import ConstantMean, LinearMean\n",
    "from cpsrl.models.covariance import EQ\n",
    "from cpsrl.models.gp import VFEGP\n",
    "\n",
    "import tensorflow as tf\n",
    "import numpy as np\n",
    "import matplotlib.pyplot as plt\n",
    "\n",
    "dtype = tf.float64"
   ]
  },
  {
   "cell_type": "code",
   "execution_count": null,
   "outputs": [],
   "source": [
    "def f(x):\n",
    "    return tf.sin(2 * np.pi * x) + 0.5 * x\n",
    "\n",
    "xmin = -1.\n",
    "xmax = 1.\n",
    "num_points = 200\n",
    "data_noise = 1e-1\n",
    "\n",
    "x_train = tf.random.uniform(minval=xmin, maxval=xmax, shape=(num_points, 1))\n",
    "x_train = tf.cast(x_train, dtype=dtype)\n",
    "\n",
    "y_train = f(x_train)\n",
    "y_train = y_train + tf.random.normal(mean=0.,\n",
    "                                     stddev=data_noise,\n",
    "                                     shape=(num_points, 1),\n",
    "                                     dtype=dtype)"
   ],
   "metadata": {
    "collapsed": false,
    "pycharm": {
     "name": "#%%\n",
     "is_executing": true
    }
   }
  },
  {
   "cell_type": "code",
   "execution_count": null,
   "outputs": [],
   "source": [
    "plt.scatter(x_train.numpy(), y_train.numpy())\n",
    "plt.show()"
   ],
   "metadata": {
    "collapsed": false,
    "pycharm": {
     "name": "#%%\n",
     "is_executing": true
    }
   }
  },
  {
   "cell_type": "code",
   "execution_count": null,
   "outputs": [],
   "source": [
    "# Set random seed to run the same test always\n",
    "tf.random.set_seed(0)\n",
    "\n",
    "# Set all parameters to trainable\n",
    "trainable_mean = False\n",
    "trainable_cov = False\n",
    "trainable_noise = True\n",
    "trainable_inducing = True\n",
    "\n",
    "log_coeff = 0.\n",
    "log_scales = [-1.]\n",
    "log_noise = -2.\n",
    "num_ind = 10\n",
    "\n",
    "# Initialise mean and covariance\n",
    "mean = LinearMean(input_dim=1,\n",
    "                  trainable=trainable_mean,\n",
    "                  dtype=dtype)\n",
    "\n",
    "mean = ConstantMean(input_dim=1,\n",
    "                    trainable=trainable_mean,\n",
    "                    dtype=dtype)\n",
    "\n",
    "cov = EQ(log_coeff=log_coeff,\n",
    "         log_scales=log_scales,\n",
    "         trainable=trainable_cov,\n",
    "         dtype=dtype)\n",
    "\n",
    "# Initialise Variational Free Energy GP\n",
    "vfe_gp = VFEGP(mean=mean,\n",
    "               cov=cov,\n",
    "               input_dim=1,\n",
    "               x_train=x_train,\n",
    "               y_train=y_train,\n",
    "               x_ind=None,\n",
    "               num_ind=num_ind,\n",
    "               trainable_inducing=trainable_inducing,\n",
    "               log_noise=log_noise,\n",
    "               trainable_noise=trainable_noise,\n",
    "               dtype=dtype)\n",
    "\n",
    "# Check optimisation works without error\n",
    "num_steps = 1000\n",
    "optimizer = tf.keras.optimizers.Adam(1e-2)\n",
    "\n",
    "for step in range(num_steps + 1):\n",
    "    with tf.GradientTape() as tape:\n",
    "        tape.watch(vfe_gp.trainable_variables)\n",
    "\n",
    "        free_energy = vfe_gp.free_energy()\n",
    "        loss = - free_energy\n",
    "        if step % 100 == 0:\n",
    "            print(loss, vfe_gp.noise)\n",
    "\n",
    "    gradients = tape.gradient(loss, vfe_gp.trainable_variables)\n",
    "    optimizer.apply_gradients(zip(gradients, vfe_gp.trainable_variables))"
   ],
   "metadata": {
    "collapsed": false,
    "pycharm": {
     "name": "#%%\n",
     "is_executing": true
    }
   }
  },
  {
   "cell_type": "code",
   "execution_count": null,
   "outputs": [],
   "source": [
    "x_pred = tf.cast(tf.linspace(-1., 1., 200)[:, None], dtype=dtype)\n",
    "mean_pred, cov_pred = vfe_gp.post_pred(x_pred=x_pred)"
   ],
   "metadata": {
    "collapsed": false,
    "pycharm": {
     "name": "#%%\n",
     "is_executing": true
    }
   }
  },
  {
   "cell_type": "code",
   "execution_count": null,
   "outputs": [],
   "source": [
    "x_plot = x_pred[:, 0].numpy()\n",
    "mean_plot = mean_pred.numpy()\n",
    "std_plot  = tf.linalg.diag_part(cov_pred) ** 0.5\n",
    "\n",
    "plt.plot(x_pred, mean_plot)\n",
    "plt.fill_between(x_plot,\n",
    "                 mean_plot - 2 * std_plot,\n",
    "                 mean_plot + 2 * std_plot)\n",
    "plt.scatter(x_train.numpy(), y_train.numpy())\n",
    "plt.show()"
   ],
   "metadata": {
    "collapsed": false,
    "pycharm": {
     "name": "#%%\n",
     "is_executing": true
    }
   }
  },
  {
   "cell_type": "code",
   "execution_count": null,
   "outputs": [],
   "source": [
    "print(vfe_gp.cov.scales, vfe_gp.noise)"
   ],
   "metadata": {
    "collapsed": false,
    "pycharm": {
     "name": "#%%\n",
     "is_executing": true
    }
   }
  },
  {
   "cell_type": "code",
   "execution_count": null,
   "outputs": [],
   "source": [
    "\n"
   ],
   "metadata": {
    "collapsed": false,
    "pycharm": {
     "name": "#%%\n",
     "is_executing": true
    }
   }
  }
 ],
 "metadata": {
  "language_info": {
   "codemirror_mode": {
    "name": "ipython",
    "version": 2
   },
   "file_extension": ".py",
   "mimetype": "text/x-python",
   "name": "python",
   "nbconvert_exporter": "python",
   "pygments_lexer": "ipython2",
   "version": "2.7.6"
  },
  "kernelspec": {
   "name": "python3",
   "language": "python",
   "display_name": "Python 3"
  },
  "pycharm": {
   "stem_cell": {
    "cell_type": "raw",
    "source": [],
    "metadata": {
     "collapsed": false
    }
   }
  }
 },
 "nbformat": 4,
 "nbformat_minor": 0
}